{
 "cells": [
  {
   "cell_type": "markdown",
   "metadata": {},
   "source": [
    "# Assignment 2\n",
    "### 1.  Download Book"
   ]
  },
  {
   "cell_type": "code",
   "execution_count": 3,
   "metadata": {},
   "outputs": [],
   "source": [
    "import random,time,math\n",
    "from collections import defaultdict\n",
    "f2= open('advs.txt', 'r')\n",
    "text= f2.read()"
   ]
  },
  {
   "cell_type": "code",
   "execution_count": 4,
   "metadata": {},
   "outputs": [],
   "source": [
    "text1=''"
   ]
  },
  {
   "cell_type": "code",
   "execution_count": 5,
   "metadata": {},
   "outputs": [],
   "source": [
    "c=0\n",
    "x=len(text)\n",
    "for i in text:\n",
    "    if(i==' '):\n",
    "        if(c==1):\n",
    "            text1+=''\n",
    "        c=0\n",
    "    if (i!='\\n'):\n",
    "        text1+=i\n",
    "        c=1"
   ]
  },
  {
   "cell_type": "markdown",
   "metadata": {},
   "source": [
    "### 2. Parse the dataset into sentences using sentence tokenizer"
   ]
  },
  {
   "cell_type": "code",
   "execution_count": 6,
   "metadata": {},
   "outputs": [],
   "source": [
    "from nltk.tokenize import sent_tokenize,word_tokenize"
   ]
  },
  {
   "cell_type": "code",
   "execution_count": 7,
   "metadata": {},
   "outputs": [],
   "source": [
    "udata = text1.decode(\"utf-8\")\n",
    "main_text = udata.encode(\"ascii\", \"ignore\")\n",
    "sentences = sent_tokenize(main_text)"
   ]
  },
  {
   "cell_type": "code",
   "execution_count": 8,
   "metadata": {},
   "outputs": [],
   "source": [
    "for i in range(len(sentences)):\n",
    "    prev=''\n",
    "    x=''\n",
    "    for j in sentences[i]:\n",
    "        if ((prev==j) and j==' ') or (j=='\\\"') or (j=='.') or (j==',') or (j=='!') or (j=='?'):\n",
    "            ;\n",
    "        else:\n",
    "            x=x+j\n",
    "            prev=j\n",
    "    x='<s> '+x+' </s>'\n",
    "    sentences[i]=x"
   ]
  },
  {
   "cell_type": "markdown",
   "metadata": {},
   "source": [
    "    DIVIDE INTO training and test"
   ]
  },
  {
   "cell_type": "code",
   "execution_count": 9,
   "metadata": {
    "scrolled": true
   },
   "outputs": [],
   "source": [
    "z=int(len(sentences)*0.8)\n",
    "training=sentences[1:z]\n",
    "test=sentences[z:]"
   ]
  },
  {
   "cell_type": "markdown",
   "metadata": {},
   "source": [
    "### 3. Compute MLE for unigram, bigram, trigrams and quadgrams. How many n-grams are possible and how many actually exists?     "
   ]
  },
  {
   "cell_type": "code",
   "execution_count": 10,
   "metadata": {},
   "outputs": [],
   "source": [
    "words=[]\n",
    "for i in sentences:\n",
    "        tempWords = word_tokenize(i)\n",
    "        for j in tempWords:\n",
    "            if j=='<':\n",
    "                c=1;\n",
    "            elif j=='s':\n",
    "                if(c==1):\n",
    "                    words.append('<s>')\n",
    "                c=0;\n",
    "            elif j=='/s':\n",
    "                if(c==1):\n",
    "                    words.append('</s>')\n",
    "                c=0;\n",
    "            elif j=='>':\n",
    "                ;\n",
    "            else:\n",
    "                words.append(j.lower())\n",
    "                # uniMLE()"
   ]
  },
  {
   "cell_type": "code",
   "execution_count": 12,
   "metadata": {},
   "outputs": [],
   "source": [
    "def uniMLE(word):\n",
    "    word=word.lower()\n",
    "    P=float(words.count(word))/len(words)\n",
    "    return P;"
   ]
  },
  {
   "cell_type": "code",
   "execution_count": 13,
   "metadata": {},
   "outputs": [],
   "source": [
    "bigrams = zip(words[:-1], words[1:])  # list of bigrams as tuples;\n",
    "def biMLE(word1,word2):\n",
    "    word1=word1.lower();\n",
    "    word2=word2.lower();\n",
    "    try:    \n",
    "        P=(float(bigrams.count((word1,word2)))/words.count(word1))*uniMLE(word1)\n",
    "    except:\n",
    "        P=0    \n",
    "#     print \"Probability of \\\"\"+word1+\"\\\" given \\\"\"+word2+\"\\\" is \"+str(P)\n",
    "    return P;"
   ]
  },
  {
   "cell_type": "code",
   "execution_count": 14,
   "metadata": {},
   "outputs": [],
   "source": [
    "trigrams= zip(words, words[1:],words[2:])\n",
    "def triMLE(word1,word2,word3):\n",
    "    word1,word2,word3=word1.lower(),word2.lower(),word3.lower();\n",
    "    try:\n",
    "        P=(float(trigrams.count((word1,word2,word3)))/bigrams.count((word1,word2)))*(biMLE(word1,word2))\n",
    "    except:\n",
    "        P=0\n",
    "#     print \"Probability of \\\"\"+word3+\"\\\" given \\\"\"+word1+\" \"+word2+\"\\\" is \"+str(P)\n",
    "    return P;"
   ]
  },
  {
   "cell_type": "code",
   "execution_count": 15,
   "metadata": {},
   "outputs": [],
   "source": [
    "quadgrams= zip(words, words[1:],words[2:],words[3:])\n",
    "def quadMLE(word1,word2,word3,word4):\n",
    "    word1,word2,word3,word4=word1.lower(),word2.lower(),word3.lower(),word4.lower();\n",
    "    try:\n",
    "        P=(float(quadgrams.count((word1,word2,word3,word4)))/trigrams.count((word1,word2,word3)))*(triMLE(word1,word2,word3))\n",
    "    except:\n",
    "        P=0    \n",
    "#     print \"Probability of \\\"\"+word4+\"\\\" given \\\"\"+word1+\" \"+word2+\" \"+word3+\"\\\"\"+\" is \"+str(P)\n",
    "    return P;"
   ]
  },
  {
   "cell_type": "code",
   "execution_count": 17,
   "metadata": {},
   "outputs": [
    {
     "name": "stdout",
     "output_type": "stream",
     "text": [
      "(0.02498748122183275, 0.05686863628776498, 8.345852111500584e-06, 8.345852111500583e-06)\n"
     ]
    }
   ],
   "source": [
    "# 'And'.lower()\n",
    "# print(words.count('and'),len(words))\n",
    "print(uniMLE('And'),\n",
    "biMLE('</s>','<s>'),\n",
    "triMLE('as','a','lover'),\n",
    "quadMLE('just','a', 'trifle', 'more')\n",
    "     )"
   ]
  },
  {
   "cell_type": "markdown",
   "metadata": {},
   "source": [
    "### How many n-grams are possible and how many actually exists?\n",
    "Unigrams:"
   ]
  },
  {
   "cell_type": "code",
   "execution_count": 18,
   "metadata": {},
   "outputs": [
    {
     "name": "stdout",
     "output_type": "stream",
     "text": [
      "No. of unigrams existing= 8339\n",
      "No. of unigrams possible = 8339\n"
     ]
    }
   ],
   "source": [
    "print \"No. of unigrams existing= \"+str(len(set(words)))+\"\\nNo. of unigrams possible = \"+str(len(set(words)))"
   ]
  },
  {
   "cell_type": "markdown",
   "metadata": {},
   "source": [
    "Bigrams:"
   ]
  },
  {
   "cell_type": "code",
   "execution_count": 19,
   "metadata": {},
   "outputs": [
    {
     "name": "stdout",
     "output_type": "stream",
     "text": [
      "No. of bigrams existing= 49931\n",
      "No. of bigrams possible = 69538921\n"
     ]
    }
   ],
   "source": [
    "print \"No. of bigrams existing= \"+str(len(set(bigrams)))+\"\\nNo. of bigrams possible = \"+str(len(set(words))*len(set(words)))"
   ]
  },
  {
   "cell_type": "markdown",
   "metadata": {},
   "source": [
    "Trigrams:"
   ]
  },
  {
   "cell_type": "code",
   "execution_count": 20,
   "metadata": {},
   "outputs": [
    {
     "name": "stdout",
     "output_type": "stream",
     "text": [
      "No. of trigrams existing= 88661\n",
      "No. of trigrams possible = 579885062219\n"
     ]
    }
   ],
   "source": [
    "print \"No. of trigrams existing= \"+str(len(set(trigrams)))+\"\\nNo. of trigrams possible = \"+str(len(set(words))*len(set(words))*len(set(words)))"
   ]
  },
  {
   "cell_type": "markdown",
   "metadata": {},
   "source": [
    "Quadgrams:"
   ]
  },
  {
   "cell_type": "code",
   "execution_count": 21,
   "metadata": {},
   "outputs": [
    {
     "name": "stdout",
     "output_type": "stream",
     "text": [
      "No. of quadgrams existing= 107981\n",
      "No. of quadgrams possible = 4835661533844241\n"
     ]
    }
   ],
   "source": [
    "print \"No. of quadgrams existing= \"+str(len(set(quadgrams)))+\"\\nNo. of quadgrams possible = \"+str(len(set(words))*len(set(words))*len(set(words))*len(set(words)))"
   ]
  },
  {
   "cell_type": "code",
   "execution_count": 22,
   "metadata": {},
   "outputs": [
    {
     "name": "stdout",
     "output_type": "stream",
     "text": [
      "[('<s>', 'the', 'adventures', 'of'), ('the', 'adventures', 'of', 'sherlock'), ('adventures', 'of', 'sherlock', 'holmes'), ('of', 'sherlock', 'holmes', 'arthur'), ('sherlock', 'holmes', 'arthur', 'conan'), ('holmes', 'arthur', 'conan', 'doyle'), ('arthur', 'conan', 'doyle', 'table'), ('conan', 'doyle', 'table', 'of'), ('doyle', 'table', 'of', 'contents'), ('table', 'of', 'contents', 'a'), ('of', 'contents', 'a', 'scandal'), ('contents', 'a', 'scandal', 'in'), ('a', 'scandal', 'in', 'bohemia'), ('scandal', 'in', 'bohemia', 'the'), ('in', 'bohemia', 'the', 'red-headed'), ('bohemia', 'the', 'red-headed', 'league'), ('the', 'red-headed', 'league', 'a'), ('red-headed', 'league', 'a', 'case'), ('league', 'a', 'case', 'of'), ('a', 'case', 'of', 'identity'), ('case', 'of', 'identity', 'the'), ('of', 'identity', 'the', 'boscombe'), ('identity', 'the', 'boscombe', 'valley'), ('the', 'boscombe', 'valley', 'mystery'), ('boscombe', 'valley', 'mystery', 'the'), ('valley', 'mystery', 'the', 'five'), ('mystery', 'the', 'five', 'orange'), ('the', 'five', 'orange', 'pips'), ('five', 'orange', 'pips', 'the'), ('orange', 'pips', 'the', 'man'), ('pips', 'the', 'man', 'with'), ('the', 'man', 'with', 'the'), ('man', 'with', 'the', 'twisted'), ('with', 'the', 'twisted', 'lip'), ('the', 'twisted', 'lip', 'the'), ('twisted', 'lip', 'the', 'adventure'), ('lip', 'the', 'adventure', 'of'), ('the', 'adventure', 'of', 'the'), ('adventure', 'of', 'the', 'blue'), ('of', 'the', 'blue', 'carbuncle'), ('the', 'blue', 'carbuncle', 'the'), ('blue', 'carbuncle', 'the', 'adventure'), ('carbuncle', 'the', 'adventure', 'of'), ('the', 'adventure', 'of', 'the'), ('adventure', 'of', 'the', 'speckled'), ('of', 'the', 'speckled', 'band'), ('the', 'speckled', 'band', 'the'), ('speckled', 'band', 'the', 'adventure'), ('band', 'the', 'adventure', 'of'), ('the', 'adventure', 'of', 'the'), ('adventure', 'of', 'the', 'engineer'), ('of', 'the', 'engineer', \"'s\"), ('the', 'engineer', \"'s\", 'thumb'), ('engineer', \"'s\", 'thumb', 'the'), (\"'s\", 'thumb', 'the', 'adventure'), ('thumb', 'the', 'adventure', 'of'), ('the', 'adventure', 'of', 'the'), ('adventure', 'of', 'the', 'noble'), ('of', 'the', 'noble', 'bachelor'), ('the', 'noble', 'bachelor', 'the'), ('noble', 'bachelor', 'the', 'adventure'), ('bachelor', 'the', 'adventure', 'of'), ('the', 'adventure', 'of', 'the'), ('adventure', 'of', 'the', 'beryl'), ('of', 'the', 'beryl', 'coronet'), ('the', 'beryl', 'coronet', 'the'), ('beryl', 'coronet', 'the', 'adventure'), ('coronet', 'the', 'adventure', 'of'), ('the', 'adventure', 'of', 'the'), ('adventure', 'of', 'the', 'copper'), ('of', 'the', 'copper', 'beeches'), ('the', 'copper', 'beeches', 'a'), ('copper', 'beeches', 'a', 'scandal'), ('beeches', 'a', 'scandal', 'in'), ('a', 'scandal', 'in', 'bohemia'), ('scandal', 'in', 'bohemia', 'table'), ('in', 'bohemia', 'table', 'of'), ('bohemia', 'table', 'of', 'contents'), ('table', 'of', 'contents', 'chapter'), ('of', 'contents', 'chapter', '1'), ('contents', 'chapter', '1', 'chapter'), ('chapter', '1', 'chapter', '2'), ('1', 'chapter', '2', 'chapter'), ('chapter', '2', 'chapter', '3'), ('2', 'chapter', '3', 'chapter'), ('chapter', '3', 'chapter', 'i'), ('3', 'chapter', 'i', 'to'), ('chapter', 'i', 'to', 'sherlock'), ('i', 'to', 'sherlock', 'holmes'), ('to', 'sherlock', 'holmes', 'she'), ('sherlock', 'holmes', 'she', 'is'), ('holmes', 'she', 'is', 'always'), ('she', 'is', 'always', 'the'), ('is', 'always', 'the', 'woman'), ('always', 'the', 'woman', '</s>'), ('the', 'woman', '</s>', '<s>'), ('woman', '</s>', '<s>', 'i'), ('</s>', '<s>', 'i', 'have'), ('<s>', 'i', 'have', 'seldom'), ('i', 'have', 'seldom', 'heard'), ('have', 'seldom', 'heard', 'him'), ('seldom', 'heard', 'him', 'mention'), ('heard', 'him', 'mention', 'her'), ('him', 'mention', 'her', 'under'), ('mention', 'her', 'under', 'any'), ('her', 'under', 'any', 'other'), ('under', 'any', 'other', 'name'), ('any', 'other', 'name', '</s>'), ('other', 'name', '</s>', '<s>'), ('name', '</s>', '<s>', 'in'), ('</s>', '<s>', 'in', 'his'), ('<s>', 'in', 'his', 'eyes'), ('in', 'his', 'eyes', 'she'), ('his', 'eyes', 'she', 'eclipses'), ('eyes', 'she', 'eclipses', 'and'), ('she', 'eclipses', 'and', 'predominates'), ('eclipses', 'and', 'predominates', 'the'), ('and', 'predominates', 'the', 'whole'), ('predominates', 'the', 'whole', 'of'), ('the', 'whole', 'of', 'her'), ('whole', 'of', 'her', 'sex'), ('of', 'her', 'sex', '</s>'), ('her', 'sex', '</s>', '<s>'), ('sex', '</s>', '<s>', 'it'), ('</s>', '<s>', 'it', 'was'), ('<s>', 'it', 'was', 'not'), ('it', 'was', 'not', 'that'), ('was', 'not', 'that', 'he'), ('not', 'that', 'he', 'felt'), ('that', 'he', 'felt', 'any'), ('he', 'felt', 'any', 'emotion'), ('felt', 'any', 'emotion', 'akin'), ('any', 'emotion', 'akin', 'to'), ('emotion', 'akin', 'to', 'love'), ('akin', 'to', 'love', 'for'), ('to', 'love', 'for', 'irene'), ('love', 'for', 'irene', 'adler'), ('for', 'irene', 'adler', '</s>'), ('irene', 'adler', '</s>', '<s>'), ('adler', '</s>', '<s>', 'all'), ('</s>', '<s>', 'all', 'emotions'), ('<s>', 'all', 'emotions', 'and'), ('all', 'emotions', 'and', 'that'), ('emotions', 'and', 'that', 'one'), ('and', 'that', 'one', 'particularly'), ('that', 'one', 'particularly', 'were'), ('one', 'particularly', 'were', 'abhorrent'), ('particularly', 'were', 'abhorrent', 'to'), ('were', 'abhorrent', 'to', 'his'), ('abhorrent', 'to', 'his', 'cold'), ('to', 'his', 'cold', 'precise'), ('his', 'cold', 'precise', 'but'), ('cold', 'precise', 'but', 'admirably'), ('precise', 'but', 'admirably', 'balanced'), ('but', 'admirably', 'balanced', 'mind'), ('admirably', 'balanced', 'mind', '</s>'), ('balanced', 'mind', '</s>', '<s>'), ('mind', '</s>', '<s>', 'he'), ('</s>', '<s>', 'he', 'was'), ('<s>', 'he', 'was', 'i'), ('he', 'was', 'i', 'take'), ('was', 'i', 'take', 'it'), ('i', 'take', 'it', 'the'), ('take', 'it', 'the', 'most'), ('it', 'the', 'most', 'perfect'), ('the', 'most', 'perfect', 'reasoning'), ('most', 'perfect', 'reasoning', 'and'), ('perfect', 'reasoning', 'and', 'observing'), ('reasoning', 'and', 'observing', 'machine'), ('and', 'observing', 'machine', 'that'), ('observing', 'machine', 'that', 'the'), ('machine', 'that', 'the', 'world'), ('that', 'the', 'world', 'has'), ('the', 'world', 'has', 'seen'), ('world', 'has', 'seen', 'but'), ('has', 'seen', 'but', 'as'), ('seen', 'but', 'as', 'a'), ('but', 'as', 'a', 'lover'), ('as', 'a', 'lover', 'he'), ('a', 'lover', 'he', 'would'), ('lover', 'he', 'would', 'have'), ('he', 'would', 'have', 'placed'), ('would', 'have', 'placed', 'himself'), ('have', 'placed', 'himself', 'in'), ('placed', 'himself', 'in', 'a'), ('himself', 'in', 'a', 'false'), ('in', 'a', 'false', 'position'), ('a', 'false', 'position', '</s>'), ('false', 'position', '</s>', '<s>'), ('position', '</s>', '<s>', 'he'), ('</s>', '<s>', 'he', 'never'), ('<s>', 'he', 'never', 'spoke'), ('he', 'never', 'spoke', 'of'), ('never', 'spoke', 'of', 'the'), ('spoke', 'of', 'the', 'softer'), ('of', 'the', 'softer', 'passions'), ('the', 'softer', 'passions', 'save'), ('softer', 'passions', 'save', 'with'), ('passions', 'save', 'with', 'a'), ('save', 'with', 'a', 'gibe'), ('with', 'a', 'gibe', 'and'), ('a', 'gibe', 'and', 'a'), ('gibe', 'and', 'a', 'sneer'), ('and', 'a', 'sneer', '</s>'), ('a', 'sneer', '</s>', '<s>'), ('sneer', '</s>', '<s>', 'they'), ('</s>', '<s>', 'they', 'were'), ('<s>', 'they', 'were', 'admirable'), ('they', 'were', 'admirable', 'things'), ('were', 'admirable', 'things', 'for'), ('admirable', 'things', 'for', 'the'), ('things', 'for', 'the', 'observer'), ('for', 'the', 'observer', '--'), ('the', 'observer', '--', 'excellent'), ('observer', '--', 'excellent', 'for'), ('--', 'excellent', 'for', 'drawing'), ('excellent', 'for', 'drawing', 'the'), ('for', 'drawing', 'the', 'veil'), ('drawing', 'the', 'veil', 'from'), ('the', 'veil', 'from', 'men'), ('veil', 'from', 'men', \"'s\"), ('from', 'men', \"'s\", 'motives'), ('men', \"'s\", 'motives', 'and'), (\"'s\", 'motives', 'and', 'actions'), ('motives', 'and', 'actions', '</s>'), ('and', 'actions', '</s>', '<s>'), ('actions', '</s>', '<s>', 'but'), ('</s>', '<s>', 'but', 'for'), ('<s>', 'but', 'for', 'the'), ('but', 'for', 'the', 'trained'), ('for', 'the', 'trained', 'reasoner'), ('the', 'trained', 'reasoner', 'to'), ('trained', 'reasoner', 'to', 'admit'), ('reasoner', 'to', 'admit', 'such'), ('to', 'admit', 'such', 'intrusions'), ('admit', 'such', 'intrusions', 'into'), ('such', 'intrusions', 'into', 'his'), ('intrusions', 'into', 'his', 'own'), ('into', 'his', 'own', 'delicate'), ('his', 'own', 'delicate', 'and'), ('own', 'delicate', 'and', 'finely'), ('delicate', 'and', 'finely', 'adjusted'), ('and', 'finely', 'adjusted', 'temperament'), ('finely', 'adjusted', 'temperament', 'was'), ('adjusted', 'temperament', 'was', 'to'), ('temperament', 'was', 'to', 'introduce'), ('was', 'to', 'introduce', 'a'), ('to', 'introduce', 'a', 'distracting'), ('introduce', 'a', 'distracting', 'factor'), ('a', 'distracting', 'factor', 'which'), ('distracting', 'factor', 'which', 'might'), ('factor', 'which', 'might', 'throw'), ('which', 'might', 'throw', 'a'), ('might', 'throw', 'a', 'doubt'), ('throw', 'a', 'doubt', 'upon'), ('a', 'doubt', 'upon', 'all'), ('doubt', 'upon', 'all', 'his'), ('upon', 'all', 'his', 'mental'), ('all', 'his', 'mental', 'results'), ('his', 'mental', 'results', '</s>'), ('mental', 'results', '</s>', '<s>'), ('results', '</s>', '<s>', 'grit'), ('</s>', '<s>', 'grit', 'in'), ('<s>', 'grit', 'in', 'a'), ('grit', 'in', 'a', 'sensitive'), ('in', 'a', 'sensitive', 'instrument'), ('a', 'sensitive', 'instrument', 'or'), ('sensitive', 'instrument', 'or', 'a'), ('instrument', 'or', 'a', 'crack'), ('or', 'a', 'crack', 'in'), ('a', 'crack', 'in', 'one'), ('crack', 'in', 'one', 'of'), ('in', 'one', 'of', 'his'), ('one', 'of', 'his', 'own'), ('of', 'his', 'own', 'high-power'), ('his', 'own', 'high-power', 'lenses'), ('own', 'high-power', 'lenses', 'would'), ('high-power', 'lenses', 'would', 'not'), ('lenses', 'would', 'not', 'be'), ('would', 'not', 'be', 'more'), ('not', 'be', 'more', 'disturbing'), ('be', 'more', 'disturbing', 'than'), ('more', 'disturbing', 'than', 'a'), ('disturbing', 'than', 'a', 'strong'), ('than', 'a', 'strong', 'emotion'), ('a', 'strong', 'emotion', 'in'), ('strong', 'emotion', 'in', 'a'), ('emotion', 'in', 'a', 'nature'), ('in', 'a', 'nature', 'such'), ('a', 'nature', 'such', 'as'), ('nature', 'such', 'as', 'his'), ('such', 'as', 'his', '</s>'), ('as', 'his', '</s>', '<s>'), ('his', '</s>', '<s>', 'and'), ('</s>', '<s>', 'and', 'yet'), ('<s>', 'and', 'yet', 'there'), ('and', 'yet', 'there', 'was'), ('yet', 'there', 'was', 'but'), ('there', 'was', 'but', 'one'), ('was', 'but', 'one', 'woman'), ('but', 'one', 'woman', 'to'), ('one', 'woman', 'to', 'him'), ('woman', 'to', 'him', 'and'), ('to', 'him', 'and', 'that'), ('him', 'and', 'that', 'woman'), ('and', 'that', 'woman', 'was'), ('that', 'woman', 'was', 'the'), ('woman', 'was', 'the', 'late'), ('was', 'the', 'late', 'irene'), ('the', 'late', 'irene', 'adler'), ('late', 'irene', 'adler', 'of'), ('irene', 'adler', 'of', 'dubious'), ('adler', 'of', 'dubious', 'and'), ('of', 'dubious', 'and', 'questionable'), ('dubious', 'and', 'questionable', 'memory'), ('and', 'questionable', 'memory', '</s>'), ('questionable', 'memory', '</s>', '<s>'), ('memory', '</s>', '<s>', 'i'), ('</s>', '<s>', 'i', 'had'), ('<s>', 'i', 'had', 'seen'), ('i', 'had', 'seen', 'little'), ('had', 'seen', 'little', 'of'), ('seen', 'little', 'of', 'holmes'), ('little', 'of', 'holmes', 'lately'), ('of', 'holmes', 'lately', '</s>'), ('holmes', 'lately', '</s>', '<s>'), ('lately', '</s>', '<s>', 'my'), ('</s>', '<s>', 'my', 'marriage'), ('<s>', 'my', 'marriage', 'had'), ('my', 'marriage', 'had', 'drifted'), ('marriage', 'had', 'drifted', 'us'), ('had', 'drifted', 'us', 'away'), ('drifted', 'us', 'away', 'from'), ('us', 'away', 'from', 'each'), ('away', 'from', 'each', 'other'), ('from', 'each', 'other', '</s>'), ('each', 'other', '</s>', '<s>'), ('other', '</s>', '<s>', 'my'), ('</s>', '<s>', 'my', 'own'), ('<s>', 'my', 'own', 'complete'), ('my', 'own', 'complete', 'happiness'), ('own', 'complete', 'happiness', 'and'), ('complete', 'happiness', 'and', 'the'), ('happiness', 'and', 'the', 'home-centred'), ('and', 'the', 'home-centred', 'interests'), ('the', 'home-centred', 'interests', 'which'), ('home-centred', 'interests', 'which', 'rise'), ('interests', 'which', 'rise', 'up'), ('which', 'rise', 'up', 'around'), ('rise', 'up', 'around', 'the'), ('up', 'around', 'the', 'man'), ('around', 'the', 'man', 'who'), ('the', 'man', 'who', 'first'), ('man', 'who', 'first', 'finds'), ('who', 'first', 'finds', 'himself'), ('first', 'finds', 'himself', 'master'), ('finds', 'himself', 'master', 'of'), ('himself', 'master', 'of', 'his'), ('master', 'of', 'his', 'own'), ('of', 'his', 'own', 'establishment'), ('his', 'own', 'establishment', 'were'), ('own', 'establishment', 'were', 'sufficient'), ('establishment', 'were', 'sufficient', 'to'), ('were', 'sufficient', 'to', 'absorb'), ('sufficient', 'to', 'absorb', 'all'), ('to', 'absorb', 'all', 'my'), ('absorb', 'all', 'my', 'attention'), ('all', 'my', 'attention', 'while'), ('my', 'attention', 'while', 'holmes'), ('attention', 'while', 'holmes', 'who'), ('while', 'holmes', 'who', 'loathed'), ('holmes', 'who', 'loathed', 'every'), ('who', 'loathed', 'every', 'form'), ('loathed', 'every', 'form', 'of'), ('every', 'form', 'of', 'society'), ('form', 'of', 'society', 'with'), ('of', 'society', 'with', 'his'), ('society', 'with', 'his', 'whole'), ('with', 'his', 'whole', 'bohemian'), ('his', 'whole', 'bohemian', 'soul'), ('whole', 'bohemian', 'soul', 'remained'), ('bohemian', 'soul', 'remained', 'in'), ('soul', 'remained', 'in', 'our'), ('remained', 'in', 'our', 'lodgings'), ('in', 'our', 'lodgings', 'in'), ('our', 'lodgings', 'in', 'baker'), ('lodgings', 'in', 'baker', 'street'), ('in', 'baker', 'street', 'buried'), ('baker', 'street', 'buried', 'among'), ('street', 'buried', 'among', 'his'), ('buried', 'among', 'his', 'old'), ('among', 'his', 'old', 'books'), ('his', 'old', 'books', 'and'), ('old', 'books', 'and', 'alternating'), ('books', 'and', 'alternating', 'from'), ('and', 'alternating', 'from', 'week'), ('alternating', 'from', 'week', 'to'), ('from', 'week', 'to', 'week'), ('week', 'to', 'week', 'between'), ('to', 'week', 'between', 'cocaine'), ('week', 'between', 'cocaine', 'and'), ('between', 'cocaine', 'and', 'ambition'), ('cocaine', 'and', 'ambition', 'the'), ('and', 'ambition', 'the', 'drowsiness'), ('ambition', 'the', 'drowsiness', 'of'), ('the', 'drowsiness', 'of', 'the'), ('drowsiness', 'of', 'the', 'drug'), ('of', 'the', 'drug', 'and'), ('the', 'drug', 'and', 'the'), ('drug', 'and', 'the', 'fierce'), ('and', 'the', 'fierce', 'energy'), ('the', 'fierce', 'energy', 'of'), ('fierce', 'energy', 'of', 'his'), ('energy', 'of', 'his', 'own'), ('of', 'his', 'own', 'keen'), ('his', 'own', 'keen', 'nature'), ('own', 'keen', 'nature', '</s>'), ('keen', 'nature', '</s>', '<s>'), ('nature', '</s>', '<s>', 'he'), ('</s>', '<s>', 'he', 'was'), ('<s>', 'he', 'was', 'still'), ('he', 'was', 'still', 'as'), ('was', 'still', 'as', 'ever'), ('still', 'as', 'ever', 'deeply'), ('as', 'ever', 'deeply', 'attracted'), ('ever', 'deeply', 'attracted', 'by'), ('deeply', 'attracted', 'by', 'the'), ('attracted', 'by', 'the', 'study'), ('by', 'the', 'study', 'of'), ('the', 'study', 'of', 'crime'), ('study', 'of', 'crime', 'and'), ('of', 'crime', 'and', 'occupied'), ('crime', 'and', 'occupied', 'his'), ('and', 'occupied', 'his', 'immense'), ('occupied', 'his', 'immense', 'faculties'), ('his', 'immense', 'faculties', 'and'), ('immense', 'faculties', 'and', 'extraordinary'), ('faculties', 'and', 'extraordinary', 'powers'), ('and', 'extraordinary', 'powers', 'of'), ('extraordinary', 'powers', 'of', 'observation'), ('powers', 'of', 'observation', 'in'), ('of', 'observation', 'in', 'following'), ('observation', 'in', 'following', 'out'), ('in', 'following', 'out', 'those'), ('following', 'out', 'those', 'clues'), ('out', 'those', 'clues', 'and'), ('those', 'clues', 'and', 'clearing'), ('clues', 'and', 'clearing', 'up'), ('and', 'clearing', 'up', 'those'), ('clearing', 'up', 'those', 'mysteries'), ('up', 'those', 'mysteries', 'which'), ('those', 'mysteries', 'which', 'had'), ('mysteries', 'which', 'had', 'been'), ('which', 'had', 'been', 'abandoned'), ('had', 'been', 'abandoned', 'as'), ('been', 'abandoned', 'as', 'hopeless'), ('abandoned', 'as', 'hopeless', 'by'), ('as', 'hopeless', 'by', 'the'), ('hopeless', 'by', 'the', 'official'), ('by', 'the', 'official', 'police'), ('the', 'official', 'police', '</s>'), ('official', 'police', '</s>', '<s>'), ('police', '</s>', '<s>', 'from'), ('</s>', '<s>', 'from', 'time'), ('<s>', 'from', 'time', 'to'), ('from', 'time', 'to', 'time'), ('time', 'to', 'time', 'i'), ('to', 'time', 'i', 'heard'), ('time', 'i', 'heard', 'some'), ('i', 'heard', 'some', 'vague'), ('heard', 'some', 'vague', 'account'), ('some', 'vague', 'account', 'of'), ('vague', 'account', 'of', 'his'), ('account', 'of', 'his', 'doings'), ('of', 'his', 'doings', ':'), ('his', 'doings', ':', 'of'), ('doings', ':', 'of', 'his'), (':', 'of', 'his', 'summons'), ('of', 'his', 'summons', 'to'), ('his', 'summons', 'to', 'odessa'), ('summons', 'to', 'odessa', 'in'), ('to', 'odessa', 'in', 'the'), ('odessa', 'in', 'the', 'case'), ('in', 'the', 'case', 'of'), ('the', 'case', 'of', 'the'), ('case', 'of', 'the', 'trepoff'), ('of', 'the', 'trepoff', 'murder'), ('the', 'trepoff', 'murder', 'of'), ('trepoff', 'murder', 'of', 'his'), ('murder', 'of', 'his', 'clearing'), ('of', 'his', 'clearing', 'up'), ('his', 'clearing', 'up', 'of'), ('clearing', 'up', 'of', 'the'), ('up', 'of', 'the', 'singular'), ('of', 'the', 'singular', 'tragedy'), ('the', 'singular', 'tragedy', 'of'), ('singular', 'tragedy', 'of', 'the'), ('tragedy', 'of', 'the', 'atkinson'), ('of', 'the', 'atkinson', 'brothers'), ('the', 'atkinson', 'brothers', 'at'), ('atkinson', 'brothers', 'at', 'trincomalee'), ('brothers', 'at', 'trincomalee', 'and'), ('at', 'trincomalee', 'and', 'finally'), ('trincomalee', 'and', 'finally', 'of'), ('and', 'finally', 'of', 'the'), ('finally', 'of', 'the', 'mission'), ('of', 'the', 'mission', 'which'), ('the', 'mission', 'which', 'he'), ('mission', 'which', 'he', 'had'), ('which', 'he', 'had', 'accomplished'), ('he', 'had', 'accomplished', 'so'), ('had', 'accomplished', 'so', 'delicately'), ('accomplished', 'so', 'delicately', 'and'), ('so', 'delicately', 'and', 'successfully'), ('delicately', 'and', 'successfully', 'for'), ('and', 'successfully', 'for', 'the'), ('successfully', 'for', 'the', 'reigning'), ('for', 'the', 'reigning', 'family'), ('the', 'reigning', 'family', 'of'), ('reigning', 'family', 'of', 'holland'), ('family', 'of', 'holland', '</s>'), ('of', 'holland', '</s>', '<s>'), ('holland', '</s>', '<s>', 'beyond'), ('</s>', '<s>', 'beyond', 'these'), ('<s>', 'beyond', 'these', 'signs'), ('beyond', 'these', 'signs', 'of'), ('these', 'signs', 'of', 'his'), ('signs', 'of', 'his', 'activity'), ('of', 'his', 'activity', 'however'), ('his', 'activity', 'however', 'which'), ('activity', 'however', 'which', 'i'), ('however', 'which', 'i', 'merely'), ('which', 'i', 'merely', 'shared'), ('i', 'merely', 'shared', 'with'), ('merely', 'shared', 'with', 'all'), ('shared', 'with', 'all', 'the'), ('with', 'all', 'the', 'readers'), ('all', 'the', 'readers', 'of'), ('the', 'readers', 'of', 'the'), ('readers', 'of', 'the', 'daily'), ('of', 'the', 'daily', 'press'), ('the', 'daily', 'press', 'i'), ('daily', 'press', 'i', 'knew'), ('press', 'i', 'knew', 'little'), ('i', 'knew', 'little', 'of'), ('knew', 'little', 'of', 'my'), ('little', 'of', 'my', 'former'), ('of', 'my', 'former', 'friend'), ('my', 'former', 'friend', 'and'), ('former', 'friend', 'and', 'companion'), ('friend', 'and', 'companion', '</s>'), ('and', 'companion', '</s>', '<s>'), ('companion', '</s>', '<s>', 'one'), ('</s>', '<s>', 'one', 'night'), ('<s>', 'one', 'night', '--'), ('one', 'night', '--', 'it'), ('night', '--', 'it', 'was'), ('--', 'it', 'was', 'on'), ('it', 'was', 'on', 'the'), ('was', 'on', 'the', 'twentieth'), ('on', 'the', 'twentieth', 'of'), ('the', 'twentieth', 'of', 'march'), ('twentieth', 'of', 'march', '1888'), ('of', 'march', '1888', '--'), ('march', '1888', '--', 'i'), ('1888', '--', 'i', 'was'), ('--', 'i', 'was', 'returning'), ('i', 'was', 'returning', 'from'), ('was', 'returning', 'from', 'a'), ('returning', 'from', 'a', 'journey'), ('from', 'a', 'journey', 'to'), ('a', 'journey', 'to', 'a'), ('journey', 'to', 'a', 'patient'), ('to', 'a', 'patient', '('), ('a', 'patient', '(', 'for'), ('patient', '(', 'for', 'i'), ('(', 'for', 'i', 'had'), ('for', 'i', 'had', 'now'), ('i', 'had', 'now', 'returned'), ('had', 'now', 'returned', 'to'), ('now', 'returned', 'to', 'civil'), ('returned', 'to', 'civil', 'practice'), ('to', 'civil', 'practice', ')'), ('civil', 'practice', ')', 'when'), ('practice', ')', 'when', 'my'), (')', 'when', 'my', 'way'), ('when', 'my', 'way', 'led'), ('my', 'way', 'led', 'me'), ('way', 'led', 'me', 'through'), ('led', 'me', 'through', 'baker'), ('me', 'through', 'baker', 'street'), ('through', 'baker', 'street', '</s>'), ('baker', 'street', '</s>', '<s>'), ('street', '</s>', '<s>', 'as'), ('</s>', '<s>', 'as', 'i'), ('<s>', 'as', 'i', 'passed'), ('as', 'i', 'passed', 'the'), ('i', 'passed', 'the', 'well-remembered'), ('passed', 'the', 'well-remembered', 'door'), ('the', 'well-remembered', 'door', 'which'), ('well-remembered', 'door', 'which', 'must'), ('door', 'which', 'must', 'always'), ('which', 'must', 'always', 'be'), ('must', 'always', 'be', 'associated'), ('always', 'be', 'associated', 'in'), ('be', 'associated', 'in', 'my'), ('associated', 'in', 'my', 'mind'), ('in', 'my', 'mind', 'with'), ('my', 'mind', 'with', 'my'), ('mind', 'with', 'my', 'wooing'), ('with', 'my', 'wooing', 'and'), ('my', 'wooing', 'and', 'with'), ('wooing', 'and', 'with', 'the'), ('and', 'with', 'the', 'dark'), ('with', 'the', 'dark', 'incidents'), ('the', 'dark', 'incidents', 'of'), ('dark', 'incidents', 'of', 'the'), ('incidents', 'of', 'the', 'study'), ('of', 'the', 'study', 'in'), ('the', 'study', 'in', 'scarlet'), ('study', 'in', 'scarlet', 'i'), ('in', 'scarlet', 'i', 'was'), ('scarlet', 'i', 'was', 'seized'), ('i', 'was', 'seized', 'with'), ('was', 'seized', 'with', 'a'), ('seized', 'with', 'a', 'keen'), ('with', 'a', 'keen', 'desire'), ('a', 'keen', 'desire', 'to'), ('keen', 'desire', 'to', 'see'), ('desire', 'to', 'see', 'holmes'), ('to', 'see', 'holmes', 'again'), ('see', 'holmes', 'again', 'and'), ('holmes', 'again', 'and', 'to'), ('again', 'and', 'to', 'know'), ('and', 'to', 'know', 'how'), ('to', 'know', 'how', 'he'), ('know', 'how', 'he', 'was'), ('how', 'he', 'was', 'employing'), ('he', 'was', 'employing', 'his'), ('was', 'employing', 'his', 'extraordinary'), ('employing', 'his', 'extraordinary', 'powers'), ('his', 'extraordinary', 'powers', '</s>'), ('extraordinary', 'powers', '</s>', '<s>'), ('powers', '</s>', '<s>', 'his'), ('</s>', '<s>', 'his', 'rooms'), ('<s>', 'his', 'rooms', 'were'), ('his', 'rooms', 'were', 'brilliantly'), ('rooms', 'were', 'brilliantly', 'lit'), ('were', 'brilliantly', 'lit', 'and'), ('brilliantly', 'lit', 'and', 'even'), ('lit', 'and', 'even', 'as'), ('and', 'even', 'as', 'i'), ('even', 'as', 'i', 'looked'), ('as', 'i', 'looked', 'up'), ('i', 'looked', 'up', 'i'), ('looked', 'up', 'i', 'saw'), ('up', 'i', 'saw', 'his'), ('i', 'saw', 'his', 'tall'), ('saw', 'his', 'tall', 'spare'), ('his', 'tall', 'spare', 'figure'), ('tall', 'spare', 'figure', 'pass'), ('spare', 'figure', 'pass', 'twice'), ('figure', 'pass', 'twice', 'in'), ('pass', 'twice', 'in', 'a'), ('twice', 'in', 'a', 'dark'), ('in', 'a', 'dark', 'silhouette'), ('a', 'dark', 'silhouette', 'against'), ('dark', 'silhouette', 'against', 'the'), ('silhouette', 'against', 'the', 'blind'), ('against', 'the', 'blind', '</s>'), ('the', 'blind', '</s>', '<s>'), ('blind', '</s>', '<s>', 'he'), ('</s>', '<s>', 'he', 'was'), ('<s>', 'he', 'was', 'pacing'), ('he', 'was', 'pacing', 'the'), ('was', 'pacing', 'the', 'room'), ('pacing', 'the', 'room', 'swiftly'), ('the', 'room', 'swiftly', 'eagerly'), ('room', 'swiftly', 'eagerly', 'with'), ('swiftly', 'eagerly', 'with', 'his'), ('eagerly', 'with', 'his', 'head'), ('with', 'his', 'head', 'sunk'), ('his', 'head', 'sunk', 'upon'), ('head', 'sunk', 'upon', 'his'), ('sunk', 'upon', 'his', 'chest'), ('upon', 'his', 'chest', 'and'), ('his', 'chest', 'and', 'his'), ('chest', 'and', 'his', 'hands'), ('and', 'his', 'hands', 'clasped'), ('his', 'hands', 'clasped', 'behind'), ('hands', 'clasped', 'behind', 'him'), ('clasped', 'behind', 'him', '</s>'), ('behind', 'him', '</s>', '<s>'), ('him', '</s>', '<s>', 'to'), ('</s>', '<s>', 'to', 'me'), ('<s>', 'to', 'me', 'who'), ('to', 'me', 'who', 'knew'), ('me', 'who', 'knew', 'his'), ('who', 'knew', 'his', 'every'), ('knew', 'his', 'every', 'mood'), ('his', 'every', 'mood', 'and'), ('every', 'mood', 'and', 'habit'), ('mood', 'and', 'habit', 'his'), ('and', 'habit', 'his', 'attitude'), ('habit', 'his', 'attitude', 'and'), ('his', 'attitude', 'and', 'manner'), ('attitude', 'and', 'manner', 'told'), ('and', 'manner', 'told', 'their'), ('manner', 'told', 'their', 'own'), ('told', 'their', 'own', 'story'), ('their', 'own', 'story', '</s>'), ('own', 'story', '</s>', '<s>'), ('story', '</s>', '<s>', 'he'), ('</s>', '<s>', 'he', 'was'), ('<s>', 'he', 'was', 'at'), ('he', 'was', 'at', 'work'), ('was', 'at', 'work', 'again'), ('at', 'work', 'again', '</s>'), ('work', 'again', '</s>', '<s>'), ('again', '</s>', '<s>', 'he'), ('</s>', '<s>', 'he', 'had'), ('<s>', 'he', 'had', 'risen'), ('he', 'had', 'risen', 'out'), ('had', 'risen', 'out', 'of'), ('risen', 'out', 'of', 'his'), ('out', 'of', 'his', 'drug-created'), ('of', 'his', 'drug-created', 'dreams'), ('his', 'drug-created', 'dreams', 'and'), ('drug-created', 'dreams', 'and', 'was'), ('dreams', 'and', 'was', 'hot'), ('and', 'was', 'hot', 'upon'), ('was', 'hot', 'upon', 'the'), ('hot', 'upon', 'the', 'scent'), ('upon', 'the', 'scent', 'of'), ('the', 'scent', 'of', 'some'), ('scent', 'of', 'some', 'new'), ('of', 'some', 'new', 'problem'), ('some', 'new', 'problem', '</s>'), ('new', 'problem', '</s>', '<s>'), ('problem', '</s>', '<s>', 'i'), ('</s>', '<s>', 'i', 'rang'), ('<s>', 'i', 'rang', 'the'), ('i', 'rang', 'the', 'bell'), ('rang', 'the', 'bell', 'and'), ('the', 'bell', 'and', 'was'), ('bell', 'and', 'was', 'shown'), ('and', 'was', 'shown', 'up'), ('was', 'shown', 'up', 'to'), ('shown', 'up', 'to', 'the'), ('up', 'to', 'the', 'chamber'), ('to', 'the', 'chamber', 'which'), ('the', 'chamber', 'which', 'had'), ('chamber', 'which', 'had', 'formerly'), ('which', 'had', 'formerly', 'been'), ('had', 'formerly', 'been', 'in'), ('formerly', 'been', 'in', 'part'), ('been', 'in', 'part', 'my'), ('in', 'part', 'my', 'own'), ('part', 'my', 'own', '</s>'), ('my', 'own', '</s>', '<s>'), ('own', '</s>', '<s>', 'his'), ('</s>', '<s>', 'his', 'manner'), ('<s>', 'his', 'manner', 'was'), ('his', 'manner', 'was', 'not'), ('manner', 'was', 'not', 'effusive'), ('was', 'not', 'effusive', '</s>'), ('not', 'effusive', '</s>', '<s>'), ('effusive', '</s>', '<s>', 'it'), ('</s>', '<s>', 'it', 'seldom'), ('<s>', 'it', 'seldom', 'was'), ('it', 'seldom', 'was', ';'), ('seldom', 'was', ';', 'but'), ('was', ';', 'but', 'he'), (';', 'but', 'he', 'was'), ('but', 'he', 'was', 'glad'), ('he', 'was', 'glad', 'i'), ('was', 'glad', 'i', 'think'), ('glad', 'i', 'think', 'to'), ('i', 'think', 'to', 'see'), ('think', 'to', 'see', 'me'), ('to', 'see', 'me', '</s>'), ('see', 'me', '</s>', '<s>'), ('me', '</s>', '<s>', 'with'), ('</s>', '<s>', 'with', 'hardly'), ('<s>', 'with', 'hardly', 'a'), ('with', 'hardly', 'a', 'word'), ('hardly', 'a', 'word', 'spoken'), ('a', 'word', 'spoken', 'but'), ('word', 'spoken', 'but', 'with'), ('spoken', 'but', 'with', 'a'), ('but', 'with', 'a', 'kindly'), ('with', 'a', 'kindly', 'eye'), ('a', 'kindly', 'eye', 'he'), ('kindly', 'eye', 'he', 'waved'), ('eye', 'he', 'waved', 'me'), ('he', 'waved', 'me', 'to'), ('waved', 'me', 'to', 'an'), ('me', 'to', 'an', 'armchair'), ('to', 'an', 'armchair', 'threw'), ('an', 'armchair', 'threw', 'across'), ('armchair', 'threw', 'across', 'his'), ('threw', 'across', 'his', 'case'), ('across', 'his', 'case', 'of'), ('his', 'case', 'of', 'cigars'), ('case', 'of', 'cigars', 'and'), ('of', 'cigars', 'and', 'indicated'), ('cigars', 'and', 'indicated', 'a'), ('and', 'indicated', 'a', 'spirit'), ('indicated', 'a', 'spirit', 'case'), ('a', 'spirit', 'case', 'and'), ('spirit', 'case', 'and', 'a'), ('case', 'and', 'a', 'gasogene'), ('and', 'a', 'gasogene', 'in'), ('a', 'gasogene', 'in', 'the'), ('gasogene', 'in', 'the', 'corner'), ('in', 'the', 'corner', '</s>'), ('the', 'corner', '</s>', '<s>'), ('corner', '</s>', '<s>', 'then'), ('</s>', '<s>', 'then', 'he'), ('<s>', 'then', 'he', 'stood'), ('then', 'he', 'stood', 'before'), ('he', 'stood', 'before', 'the'), ('stood', 'before', 'the', 'fire'), ('before', 'the', 'fire', 'and'), ('the', 'fire', 'and', 'looked'), ('fire', 'and', 'looked', 'me'), ('and', 'looked', 'me', 'over'), ('looked', 'me', 'over', 'in'), ('me', 'over', 'in', 'his'), ('over', 'in', 'his', 'singular'), ('in', 'his', 'singular', 'introspective'), ('his', 'singular', 'introspective', 'fashion'), ('singular', 'introspective', 'fashion', '</s>'), ('introspective', 'fashion', '</s>', '<s>'), ('fashion', '</s>', '<s>', 'wedlock'), ('</s>', '<s>', 'wedlock', 'suits'), ('<s>', 'wedlock', 'suits', 'you'), ('wedlock', 'suits', 'you', 'he'), ('suits', 'you', 'he', 'remarked'), ('you', 'he', 'remarked', '</s>'), ('he', 'remarked', '</s>', '<s>'), ('remarked', '</s>', '<s>', 'i'), ('</s>', '<s>', 'i', 'think'), ('<s>', 'i', 'think', 'watson'), ('i', 'think', 'watson', 'that'), ('think', 'watson', 'that', 'you'), ('watson', 'that', 'you', 'have'), ('that', 'you', 'have', 'put'), ('you', 'have', 'put', 'on'), ('have', 'put', 'on', 'seven'), ('put', 'on', 'seven', 'and'), ('on', 'seven', 'and', 'a'), ('seven', 'and', 'a', 'half'), ('and', 'a', 'half', 'pounds'), ('a', 'half', 'pounds', 'since'), ('half', 'pounds', 'since', 'i'), ('pounds', 'since', 'i', 'saw'), ('since', 'i', 'saw', 'you'), ('i', 'saw', 'you', '</s>'), ('saw', 'you', '</s>', '<s>'), ('you', '</s>', '<s>', 'seven'), ('</s>', '<s>', 'seven', '</s>'), ('<s>', 'seven', '</s>', '<s>'), ('seven', '</s>', '<s>', 'i'), ('</s>', '<s>', 'i', 'answered'), ('<s>', 'i', 'answered', '</s>'), ('i', 'answered', '</s>', '<s>'), ('answered', '</s>', '<s>', 'indeed'), ('</s>', '<s>', 'indeed', 'i'), ('<s>', 'indeed', 'i', 'should'), ('indeed', 'i', 'should', 'have'), ('i', 'should', 'have', 'thought'), ('should', 'have', 'thought', 'a'), ('have', 'thought', 'a', 'little'), ('thought', 'a', 'little', 'more'), ('a', 'little', 'more', '</s>'), ('little', 'more', '</s>', '<s>'), ('more', '</s>', '<s>', 'just'), ('</s>', '<s>', 'just', 'a'), ('<s>', 'just', 'a', 'trifle'), ('just', 'a', 'trifle', 'more'), ('a', 'trifle', 'more', 'i'), ('trifle', 'more', 'i', 'fancy'), ('more', 'i', 'fancy', 'watson'), ('i', 'fancy', 'watson', '</s>'), ('fancy', 'watson', '</s>', '<s>'), ('watson', '</s>', '<s>', 'and'), ('</s>', '<s>', 'and', 'in'), ('<s>', 'and', 'in', 'practice'), ('and', 'in', 'practice', 'again'), ('in', 'practice', 'again', 'i'), ('practice', 'again', 'i', 'observe'), ('again', 'i', 'observe', '</s>'), ('i', 'observe', '</s>', '<s>'), ('observe', '</s>', '<s>', 'you'), ('</s>', '<s>', 'you', 'did'), ('<s>', 'you', 'did', 'not'), ('you', 'did', 'not', 'tell'), ('did', 'not', 'tell', 'me'), ('not', 'tell', 'me', 'that'), ('tell', 'me', 'that', 'you'), ('me', 'that', 'you', 'intended'), ('that', 'you', 'intended', 'to'), ('you', 'intended', 'to', 'go'), ('intended', 'to', 'go', 'into'), ('to', 'go', 'into', 'harness'), ('go', 'into', 'harness', '</s>'), ('into', 'harness', '</s>', '<s>'), ('harness', '</s>', '<s>', 'then'), ('</s>', '<s>', 'then', 'how'), ('<s>', 'then', 'how', 'do'), ('then', 'how', 'do', 'you'), ('how', 'do', 'you', 'know'), ('do', 'you', 'know', '</s>'), ('you', 'know', '</s>', '<s>'), ('know', '</s>', '<s>', 'i'), ('</s>', '<s>', 'i', 'see'), ('<s>', 'i', 'see', 'it'), ('i', 'see', 'it', 'i'), ('see', 'it', 'i', 'deduce'), ('it', 'i', 'deduce', 'it'), ('i', 'deduce', 'it', '</s>'), ('deduce', 'it', '</s>', '<s>'), ('it', '</s>', '<s>', 'how'), ('</s>', '<s>', 'how', 'do'), ('<s>', 'how', 'do', 'i'), ('how', 'do', 'i', 'know'), ('do', 'i', 'know', 'that'), ('i', 'know', 'that', 'you'), ('know', 'that', 'you', 'have'), ('that', 'you', 'have', 'been'), ('you', 'have', 'been', 'getting'), ('have', 'been', 'getting', 'yourself'), ('been', 'getting', 'yourself', 'very'), ('getting', 'yourself', 'very', 'wet'), ('yourself', 'very', 'wet', 'lately'), ('very', 'wet', 'lately', 'and'), ('wet', 'lately', 'and', 'that'), ('lately', 'and', 'that', 'you'), ('and', 'that', 'you', 'have'), ('that', 'you', 'have', 'a'), ('you', 'have', 'a', 'most'), ('have', 'a', 'most', 'clumsy'), ('a', 'most', 'clumsy', 'and'), ('most', 'clumsy', 'and', 'careless'), ('clumsy', 'and', 'careless', 'servant'), ('and', 'careless', 'servant', 'girl'), ('careless', 'servant', 'girl', '</s>'), ('servant', 'girl', '</s>', '<s>'), ('girl', '</s>', '<s>', 'my'), ('</s>', '<s>', 'my', 'dear'), ('<s>', 'my', 'dear', 'holmes'), ('my', 'dear', 'holmes', 'said'), ('dear', 'holmes', 'said', 'i'), ('holmes', 'said', 'i', 'this'), ('said', 'i', 'this', 'is'), ('i', 'this', 'is', 'too'), ('this', 'is', 'too', 'much'), ('is', 'too', 'much', '</s>'), ('too', 'much', '</s>', '<s>'), ('much', '</s>', '<s>', 'you'), ('</s>', '<s>', 'you', 'would'), ('<s>', 'you', 'would', 'certainly'), ('you', 'would', 'certainly', 'have'), ('would', 'certainly', 'have', 'been'), ('certainly', 'have', 'been', 'burned'), ('have', 'been', 'burned', 'had'), ('been', 'burned', 'had', 'you'), ('burned', 'had', 'you', 'lived'), ('had', 'you', 'lived', 'a'), ('you', 'lived', 'a', 'few'), ('lived', 'a', 'few', 'centuries'), ('a', 'few', 'centuries', 'ago'), ('few', 'centuries', 'ago', '</s>'), ('centuries', 'ago', '</s>', '<s>'), ('ago', '</s>', '<s>', 'it'), ('</s>', '<s>', 'it', 'is'), ('<s>', 'it', 'is', 'true'), ('it', 'is', 'true', 'that'), ('is', 'true', 'that', 'i'), ('true', 'that', 'i', 'had'), ('that', 'i', 'had', 'a'), ('i', 'had', 'a', 'country'), ('had', 'a', 'country', 'walk'), ('a', 'country', 'walk', 'on'), ('country', 'walk', 'on', 'thursday'), ('walk', 'on', 'thursday', 'and'), ('on', 'thursday', 'and', 'came'), ('thursday', 'and', 'came', 'home'), ('and', 'came', 'home', 'in'), ('came', 'home', 'in', 'a'), ('home', 'in', 'a', 'dreadful'), ('in', 'a', 'dreadful', 'mess'), ('a', 'dreadful', 'mess', 'but'), ('dreadful', 'mess', 'but', 'as'), ('mess', 'but', 'as', 'i'), ('but', 'as', 'i', 'have'), ('as', 'i', 'have', 'changed'), ('i', 'have', 'changed', 'my'), ('have', 'changed', 'my', 'clothes')]\n"
     ]
    },
    {
     "data": {
      "text/plain": [
       "[(('<s>', 'it', 'was', 'a'), 32),\n",
       " (('<s>', 'i', 'think', 'that'), 29),\n",
       " (('<s>', 'it', 'is', 'a'), 26),\n",
       " (('<s>', 'i', 'can', 'not'), 20),\n",
       " (('<s>', 'i', 'do', 'not'), 15),\n",
       " (('<s>', 'there', 'is', 'a'), 14),\n",
       " (('<s>', 'what', 'do', 'you'), 14),\n",
       " (('<s>', 'there', 'was', 'a'), 13),\n",
       " (('<s>', 'he', 'was', 'a'), 12),\n",
       " (('<s>', 'it', 'was', 'not'), 11),\n",
       " (('<s>', 'i', 'have', 'no'), 11),\n",
       " (('<s>', 'there', 'is', 'no'), 10),\n",
       " (('<s>', 'it', 'is', 'the'), 10),\n",
       " (('<s>', 'there', 'was', 'no'), 10),\n",
       " (('<s>', 'i', 'have', 'been'), 9),\n",
       " (('<s>', 'i', 'am', 'afraid'), 9),\n",
       " (('<s>', 'sherlock', 'holmes', 'was'), 8),\n",
       " (('<s>', 'i', 'do', \"n't\"), 8),\n",
       " (('<s>', 'on', 'the', 'contrary'), 8),\n",
       " (('<s>', 'the', 'coroner', ':'), 8),\n",
       " (('<s>', 'i', 'know', 'that'), 8),\n",
       " (('<s>', 'i', 'should', 'not'), 8),\n",
       " (('<s>', 'i', 'did', 'not'), 8),\n",
       " (('<s>', 'i', 'shall', 'be'), 7),\n",
       " (('<s>', 'lord', 'st', 'simon'), 7),\n",
       " (('<s>', 'i', 'could', 'not'), 7),\n",
       " (('<s>', 'it', 'is', 'very'), 7),\n",
       " (('<s>', 'it', 'was', 'the'), 7),\n",
       " (('<s>', 'you', 'will', 'excuse'), 7),\n",
       " (('<s>', 'i', 'confess', 'that'), 7),\n",
       " (('<s>', 'as', 'he', 'spoke'), 7),\n",
       " (('<s>', 'it', 'must', 'be'), 7),\n",
       " (('<s>', 'it', 'is', 'not'), 7),\n",
       " (('<s>', 'here', 'is', 'the'), 7),\n",
       " (('<s>', 'i', 'should', 'be'), 6),\n",
       " (('<s>', 'i', 'had', 'no'), 6),\n",
       " (('<s>', 'you', 'will', 'find'), 6),\n",
       " (('<s>', 'it', 'was', 'only'), 6),\n",
       " (('<s>', 'i', 'could', 'see'), 6),\n",
       " (('<s>', 'the', 'adventure', 'of'), 6),\n",
       " (('<s>', 'i', 'am', 'sorry'), 6),\n",
       " (('<s>', 'but', 'i', 'am'), 6),\n",
       " (('<s>', 'it', 'is', 'quite'), 6),\n",
       " (('<s>', 'that', 'is', 'the'), 6),\n",
       " (('<s>', 'one', 'of', 'the'), 6),\n",
       " (('<s>', 'i', 'believe', 'that'), 6),\n",
       " (('<s>', 'sherlock', 'holmes', 'sat'), 6),\n",
       " (('<s>', 'this', 'is', 'my'), 6),\n",
       " (('<s>', 'i', 'am', 'sure'), 6),\n",
       " (('<s>', 'on', 'the', 'other'), 6),\n",
       " (('<s>', 'i', 'took', 'the'), 5),\n",
       " (('<s>', 'i', 'should', 'like'), 5),\n",
       " (('<s>', 'i', 'thought', 'of'), 5),\n",
       " (('<s>', 'i', 'have', 'a'), 5),\n",
       " (('<s>', 'i', 'am', 'glad'), 5),\n",
       " (('<s>', 'i', 'suppose', 'that'), 5),\n",
       " (('<s>', 'i', 'think', 'watson'), 5),\n",
       " (('<s>', 'it', 'was', 'in'), 5),\n",
       " (('<s>', 'well', 'i', 'have'), 5),\n",
       " (('<s>', 'it', \"'s\", 'a'), 5),\n",
       " (('<s>', 'i', 'have', 'seen'), 5),\n",
       " (('<s>', 'here', 'it', 'is'), 5),\n",
       " (('<s>', 'well', 'it', 'is'), 5),\n",
       " (('<s>', 'i', 'knew', 'that'), 5),\n",
       " (('<s>', 'you', 'have', 'been'), 5),\n",
       " (('<s>', 'he', 'opened', 'the'), 5),\n",
       " (('<s>', 'sherlock', 'holmes', 'had'), 5),\n",
       " (('<s>', 'i', 'hope', 'that'), 5),\n",
       " (('<s>', 'then', 'i', 'shall'), 5),\n",
       " (('<s>', 'it', 'is', 'possible'), 5),\n",
       " (('<s>', 'i', 'understand', 'that'), 5),\n",
       " (('<s>', 'do', 'you', 'not'), 5),\n",
       " (('<s>', 'and', 'now', 'i'), 5),\n",
       " (('<s>', 'it', 'is', 'true'), 5),\n",
       " (('<s>', 'he', 'is', 'a'), 5),\n",
       " (('<s>', 'i', 'am', 'a'), 5),\n",
       " (('<s>', 'by', 'the', 'way'), 5),\n",
       " (('<s>', 'i', 'tell', 'you'), 5),\n",
       " (('<s>', 'still', 'of', 'course'), 4),\n",
       " (('<s>', 'you', 'did', 'not'), 4),\n",
       " (('<s>', 'his', 'name', 'is'), 4),\n",
       " (('<s>', 'he', 'took', 'a'), 4),\n",
       " (('<s>', 'if', 'you', 'can'), 4),\n",
       " (('<s>', 'in', 'that', 'case'), 4),\n",
       " (('<s>', 'if', 'you', 'will'), 4),\n",
       " (('<s>', 'but', 'what', 'is'), 4),\n",
       " (('<s>', 'what', 'is', 'it'), 4),\n",
       " (('<s>', 'god', 'help', 'me'), 4),\n",
       " (('<s>', 'it', 'is', 'no'), 4),\n",
       " (('<s>', 'and', 'what', 'did'), 4),\n",
       " (('<s>', 'he', \"'s\", 'a'), 4),\n",
       " (('<s>', 'there', 'was', 'the'), 4),\n",
       " (('<s>', 'my', 'dear', 'holmes'), 4),\n",
       " (('<s>', 'but', 'i', 'have'), 4),\n",
       " (('<s>', 'my', 'dear', 'fellow'), 4),\n",
       " (('<s>', 'this', 'is', 'the'), 4),\n",
       " (('<s>', 'i', 'have', 'had'), 4),\n",
       " (('<s>', 'it', 'was', 'an'), 4),\n",
       " (('<s>', 'i', 'will', 'do'), 4),\n",
       " (('<s>', 'why', 'did', 'you'), 4),\n",
       " (('<s>', 'it', 'is', 'so'), 4),\n",
       " (('<s>', 'i', 'had', 'been'), 4),\n",
       " (('<s>', 'and', 'yet', 'i'), 4),\n",
       " (('<s>', 'my', 'name', 'is'), 4),\n",
       " (('<s>', 'it', 'is', 'of'), 4),\n",
       " (('<s>', 'do', 'you', 'think'), 4),\n",
       " (('<s>', 'it', 'seems', 'to'), 4),\n",
       " (('<s>', 'as', 'i', 'passed'), 4),\n",
       " (('<s>', 'i', 'am', 'not'), 4),\n",
       " (('<s>', 'i', 'thought', 'it'), 4),\n",
       " (('<s>', 'it', 'is', 'my'), 4),\n",
       " (('<s>', 'there', 'are', 'several'), 4),\n",
       " (('<s>', 'as', 'far', 'as'), 4),\n",
       " (('<s>', 'so', 'much', 'for'), 4),\n",
       " (('<s>', 'the', 'man', 'who'), 4),\n",
       " (('<s>', 'it', 'must', 'have'), 4),\n",
       " (('<s>', 'do', 'you', 'know'), 4),\n",
       " (('<s>', 'but', 'it', 'is'), 4),\n",
       " (('<s>', 'there', 'is', 'one'), 4),\n",
       " (('<s>', 'not', 'at', 'all'), 4),\n",
       " (('<s>', 'i', 'thought', 'that'), 4),\n",
       " (('<s>', 'i', 'assure', 'you'), 4),\n",
       " (('<s>', 'i', 'shall', 'take'), 4),\n",
       " (('<s>', 'i', 'left', 'the'), 3),\n",
       " (('<s>', 'you', 'have', 'made'), 3),\n",
       " (('<s>', 'how', 'did', 'you'), 3),\n",
       " (('<s>', 'then', 'it', 'was'), 3),\n",
       " (('<s>', 'lady', 'st', 'simon'), 3),\n",
       " (('<s>', 'i', 'did', \"n't\"), 3),\n",
       " (('<s>', 'colonel', 'lysander', 'stark'), 3)]"
      ]
     },
     "execution_count": 22,
     "metadata": {},
     "output_type": "execute_result"
    }
   ],
   "source": [
    "counts= defaultdict(int)\n",
    "for x in quadgrams:\n",
    "    counts[x] += 1\n",
    "print quadgrams[:1000]\n",
    "topquadsTemp=sorted(counts.items(),reverse=True,key=lambda tup: tup[1])[:1000]\n",
    "topquads=[]\n",
    "for i in topquadsTemp:\n",
    "    if(i[0][0]=='<s>'):\n",
    "        if(i[0][1]!='</s>' and i[0][2]!='</s>' and i[0][3]!='</s>'):\n",
    "            topquads.append(i);"
   ]
  },
  {
   "cell_type": "markdown",
   "metadata": {},
   "source": [
    "### 4. Develop a system that has two functions:\n",
    "Generator(model_name): generates sentences by utilizing MLEs from specified n-gram model."
   ]
  },
  {
   "cell_type": "code",
   "execution_count": 117,
   "metadata": {},
   "outputs": [
    {
     "name": "stdout",
     "output_type": "stream",
     "text": [
      "\n"
     ]
    }
   ],
   "source": [
    "def Generate(model_name,random_seed=0,sentence_length=55,accuracy=0.005):\n",
    "    sent=''\n",
    "    if(random_seed!=0):\n",
    "        random.seed(random_seed)\n",
    "    model_name=model_name.lower()\n",
    "    if(model_name==\"unigram\"): \n",
    "        while(1):\n",
    "            i=random.randint(1, len(words)-1)\n",
    "            if(words[i]=='</s>'): \n",
    "                if(len(sent)>sentence_length):\n",
    "                    sent=sent[:len(sent)-1]+'.'\n",
    "                    break;\n",
    "            elif(words[i]!='<s>'):\n",
    "                sent+=words[i]+\" \"\n",
    "        return sent.capitalize()\n",
    "    elif(model_name==\"bigram\"):\n",
    "        startTime = time.clock()\n",
    "        prev='<s>'\n",
    "        while(1):\n",
    "            i=random.randint(1, len(words)-1)\n",
    "#             print words[i],biMLE(prev,words[i])\n",
    "            \n",
    "            if(words[i]=='</s>'):\n",
    "                if(len(sent)>sentence_length):\n",
    "                    if(biMLE(prev,words[i])>0):\n",
    "                        sent=sent[:len(sent)-1]+'.'\n",
    "                        break;\n",
    "            elif(biMLE(prev,words[i])>accuracy):\n",
    "                sent+=words[i]+\" \"\n",
    "                prev=words[i]\n",
    "#                 print words[i]\n",
    "            time1= time.clock()\n",
    "            if((time1-startTime)>5):\n",
    "                accuracy/=10;\n",
    "                startTime=time.clock()\n",
    "        print \"accuracy rating=\",accuracy\n",
    "        return sent.capitalize()\n",
    "    elif(model_name==\"trigram\"):\n",
    "        prev='<s>'\n",
    "        while(1):\n",
    "            i=random.randint(1, len(words)-1)\n",
    "#             print i,len(words)\n",
    "            if(biMLE(prev,words[i])>0.005):\n",
    "                sent=words[i]+\" \";\n",
    "                prev=['<s>',words[i]]\n",
    "                break;\n",
    "        startTime = time.clock()\n",
    "        while(1):\n",
    "            i=random.randint(1, len(words)-1)\n",
    "#             print words[i],biMLE(prev,words[i])\n",
    "            \n",
    "            if(words[i]=='</s>'):\n",
    "                if(len(sent)>sentence_length):\n",
    "                    if(triMLE(prev[0],prev[1],words[i])>0):\n",
    "                        sent=sent[:len(sent)-1]+'.'\n",
    "                        break;\n",
    "            elif(triMLE(prev[0],prev[1],words[i])>accuracy):\n",
    "                sent+=words[i]+\" \"\n",
    "                prev=[prev[1],words[i]]\n",
    "#                 print words[i]\n",
    "            time1= time.clock()\n",
    "            if((time1-startTime)>5):\n",
    "                accuracy/=100;\n",
    "                startTime=time.clock()\n",
    "        print \"accuracy rating=\",accuracy\n",
    "        return sent.capitalize()\n",
    "    elif(model_name==\"quadgram\"):\n",
    "        reps=0\n",
    "        accuracy=accuracy/100000\n",
    "        prev='<s>'\n",
    "        i=random.randint(1, len(topquads)-1)\n",
    "        sent=topquads[i][0][1]+\" \"+topquads[i][0][2]+\" \"+topquads[i][0][3]+\" \";\n",
    "        prev=[topquads[i][0][1],topquads[i][0][2],topquads[i][0][3]]\n",
    "#         print \"Started Generating...\",topquads[i]\n",
    "        timer=0;\n",
    "        while(1):\n",
    "            if(reps==100):\n",
    "                i=random.randint(1, len(topquads)/3)\n",
    "                sent=topquads[i][0][1]+\" \"+topquads[i][0][2]+\" \"+topquads[i][0][3]+\" \";\n",
    "                prev=[topquads[i][0][1],topquads[i][0][2],topquads[i][0][3]]\n",
    "                reps=0\n",
    "                accuracy=0.0000000000000001\n",
    "                print \"Generating...\"\n",
    "            timer+=1;\n",
    "            i=random.randint(1, len(words)-1)\n",
    "#             print words[i],biMLE(prev,words[i])\n",
    "            \n",
    "            if(words[i]=='</s>'):\n",
    "                if(len(sent)>sentence_length):\n",
    "                    if(quadMLE(prev[0],prev[1],prev[2],words[i])>0 or (accuracy==0 and reps>90)):\n",
    "                        sent=sent[:len(sent)-1]+'.'\n",
    "                        break;\n",
    "            elif(quadMLE(prev[0],prev[1],prev[2],words[i])>accuracy):\n",
    "#                 print words[i]\n",
    "                sent+=words[i]+\" \"\n",
    "                prev=[prev[1],prev[2],words[i]]\n",
    "#                 print words[i]\n",
    "            if(timer>30):\n",
    "                accuracy=accuracy/100000;\n",
    "                timer=0;\n",
    "                reps+=1;\n",
    "            if(accuracy<0.1**3600):\n",
    "#                 sent=sent[:len(sent)-1]+'.'\n",
    "#                 print \"Sorry, model got a poor accuracy this time.\"\n",
    "                accuracy=0;\n",
    "                print \"accuracy rating= Poor\"\n",
    "                break;\n",
    "        if(accuracy==0):\n",
    "            ;\n",
    "        else:\n",
    "            print \"accuracy rating=\",accuracy\n",
    "        return sent.capitalize()"
   ]
  },
  {
   "cell_type": "code",
   "execution_count": 52,
   "metadata": {},
   "outputs": [
    {
     "name": "stdout",
     "output_type": "stream",
     "text": [
      "Much is his the message was mr spite unless there sill nerve to the the i catlike it it a too yes and i observed a corner not see at above uncle factor tint waste nothing upon.\n",
      "Be next than stoper who on the pillows james in woman 's course was must miss last your occasionally though at in morning i his the said afterwards holmes news a without at should its footsteps is it was but to i.\n",
      "Of that startled bell-rope hills a instant also dark rucastle he imminent have and wilderness wanted a.\n",
      "Together could degenerating i note utmost not you were matter with no unhappy be sake not the be which norton he the was had.\n",
      "Immediate grace thought few and observing was as the have knowledge said.\n"
     ]
    }
   ],
   "source": [
    "for i in range (5):\n",
    "    print i+1,\".\",Generate(\"unigram\")"
   ]
  },
  {
   "cell_type": "code",
   "execution_count": 54,
   "metadata": {},
   "outputs": [
    {
     "name": "stdout",
     "output_type": "stream",
     "text": [
      " 1 accuracy rating= 5e-05\n",
      "I had been of his way to some of my hands.\n",
      "2 accuracy rating= 5e-05\n",
      "I have been of all the little.\n",
      "3 accuracy rating= 5e-05\n",
      "I had been in the side of that my hands.\n",
      "4 accuracy rating= 5e-05\n",
      "I was the door was no.\n",
      "5 accuracy rating= 0.0005\n",
      "I think that the house.\n"
     ]
    }
   ],
   "source": [
    "for i in range (5):\n",
    "    print i+1,Generate(\"bigram\",sentence_length=19)"
   ]
  },
  {
   "cell_type": "code",
   "execution_count": 55,
   "metadata": {
    "scrolled": true
   },
   "outputs": [
    {
     "name": "stdout",
     "output_type": "stream",
     "text": [
      "1 accuracy rating= 5e-07\n",
      "I was a very good.\n",
      "2 accuracy rating= 5e-07\n",
      "I see a man out on the man with a head of the first.\n",
      "3 accuracy rating= 5e-19\n",
      "I did n't do it he said at last and i you holmes said he my real occupation.\n",
      "4 accuracy rating= 5e-33\n",
      "I was a man of the second that in such a will or that they may be of the precious case into my chair.\n",
      "5 accuracy rating= 5e-09\n",
      "I have the effect that he is the right is his said the young man and the mystery.\n"
     ]
    }
   ],
   "source": [
    "for i in range (5):\n",
    "    print i+1,Generate(\"trigram\",sentence_length=15)"
   ]
  },
  {
   "cell_type": "code",
   "execution_count": 109,
   "metadata": {},
   "outputs": [
    {
     "name": "stdout",
     "output_type": "stream",
     "text": [
      "1 The coroner : that is for the best.\n",
      "2 I hope that i have the key of the.\n",
      "3 My dear holmes said i this is too.\n",
      "4 It is a little worn our visitor.\n"
     ]
    }
   ],
   "source": [
    "for i in range (4):\n",
    "    print i+1,Generate(\"quadgram\",sentence_length=25)"
   ]
  },
  {
   "cell_type": "code",
   "execution_count": 119,
   "metadata": {},
   "outputs": [
    {
     "name": "stdout",
     "output_type": "stream",
     "text": [
      "1 accuracy rating= 5e-213\n",
      "It is no time for me to be a man of the woman.\n",
      "2 Generating...\n",
      "Generating...\n",
      "But i am not easy in my mind with my.\n",
      "3 God help me i would not have me arrested at once.\n",
      "4 On the other hand a man should be at his very.\n"
     ]
    }
   ],
   "source": [
    "for i in range (4):\n",
    "    print i+1,Generate(\"quadgram\",sentence_length=30)"
   ]
  },
  {
   "cell_type": "markdown",
   "metadata": {},
   "source": [
    "    Probability(sentence,model_name): Compute the probability of a given sentence in log-space.  "
   ]
  },
  {
   "cell_type": "code",
   "execution_count": 28,
   "metadata": {},
   "outputs": [],
   "source": [
    "def Probability(sentence,model_name):\n",
    "    logP=0;\n",
    "    sentWords=word_tokenize(sentence)\n",
    "    for i in range(len(sentWords)):\n",
    "        sentWords[i]=sentWords[i].lower()\n",
    "    if(model_name==\"unigram\"): \n",
    "        for i in sentWords:\n",
    "            try:\n",
    "                logP+=math.log(uniMLE(i))\n",
    "            except:\n",
    "                logP=-999999999999\n",
    "    elif(model_name==\"bigram\"):\n",
    "        for i in range(len(sentWords)-1):\n",
    "            try:\n",
    "                logP+=math.log(biMLE(sentWords[i],sentWords[i+1]))\n",
    "            except:\n",
    "                logP=-999999999999\n",
    "    elif(model_name==\"trigram\"):\n",
    "        for i in range(len(sentWords)-2):\n",
    "            try:\n",
    "                logP+=math.log(triMLE(sentWords[i],sentWords[i+1],sentWords[i+2]))\n",
    "            except:\n",
    "                logP=-999999999999\n",
    "    elif(model_name==\"quadgram\"):\n",
    "        for i in range(len(sentWords)-3):\n",
    "            try:\n",
    "                logP+=math.log(quadMLE(sentWords[i],sentWords[i+1],sentWords[i+2],sentWords[i+3])) \n",
    "            except:\n",
    "                logP=-999999999999\n",
    "    print \"logP=\"+str(logP)+\"\\nP=\"+str(math.exp(logP))\n",
    "    return logP"
   ]
  },
  {
   "cell_type": "code",
   "execution_count": 29,
   "metadata": {},
   "outputs": [
    {
     "name": "stdout",
     "output_type": "stream",
     "text": [
      "logP=-23.3874917913\n",
      "P=6.9653247467e-11\n"
     ]
    },
    {
     "data": {
      "text/plain": [
       "-23.38749179127583"
      ]
     },
     "execution_count": 29,
     "metadata": {},
     "output_type": "execute_result"
    }
   ],
   "source": [
    "Probability('do i make myself ',\"trigram\")"
   ]
  },
  {
   "cell_type": "code",
   "execution_count": 30,
   "metadata": {},
   "outputs": [],
   "source": [
    "V=len(set(words))"
   ]
  },
  {
   "cell_type": "markdown",
   "metadata": {},
   "source": [
    "### 5. Implement add-1 smoothing for bigram model and give 2-3 examples where drastic change in the count occurs post-smoothing. Can you explain this drastic change in a sentence?"
   ]
  },
  {
   "cell_type": "code",
   "execution_count": 31,
   "metadata": {},
   "outputs": [],
   "source": [
    "def biMLEsmooth(word1,word2):\n",
    "    word1=word1.lower();\n",
    "    word2=word2.lower();\n",
    "    P=float(bigrams.count((word1,word2))+1)/(words.count(word1)+V)\n",
    "    return P;"
   ]
  },
  {
   "cell_type": "code",
   "execution_count": 32,
   "metadata": {},
   "outputs": [],
   "source": [
    "def effectiveBigramCount(word1,word2):\n",
    "    word1=word1.lower();\n",
    "    word2=word2.lower();\n",
    "    c=biMLEsmooth(word1,word2)*float(words.count(word1))\n",
    "    return c"
   ]
  },
  {
   "cell_type": "code",
   "execution_count": 33,
   "metadata": {},
   "outputs": [
    {
     "name": "stdout",
     "output_type": "stream",
     "text": [
      "BIGRAMS        effectiveBigramCount  bigrams.count\n",
      "\" of the \"=      172.624659029        713\n",
      "\" in the \"=      88.05        504\n",
      "\" it is \"=      55.9949314252        326\n"
     ]
    }
   ],
   "source": [
    "words1,words2=['of','in','it'], ['the','the','is']\n",
    "print \"BIGRAMS\",\"\",\"      effectiveBigramCount\",\"\",\"bigrams.count\"\n",
    "for (word1,word2) in zip(words1,words2):\n",
    "    print \"\\\"\",word1,word2,\"\\\"=     \",effectiveBigramCount(word1,word2),\"      \",bigrams.count((word1,word2))"
   ]
  },
  {
   "cell_type": "markdown",
   "metadata": {},
   "source": [
    "    The count from the existing bigrams decrease and gets added to every bigram that doesnt exist."
   ]
  },
  {
   "cell_type": "markdown",
   "metadata": {},
   "source": [
    "### 6. Do you observe the constant discounting value ‘d’ by implementing Good-turing smoothing technique? If yes, what is the value of ‘d’? \n",
    "Hint: You can check for bigrams having original counts between 1-10. \n"
   ]
  },
  {
   "cell_type": "code",
   "execution_count": 65,
   "metadata": {},
   "outputs": [],
   "source": [
    "counts,count= defaultdict(int),defaultdict(int)\n",
    "for x in bigrams:\n",
    "    counts[x] += 1\n",
    "#     print x,counts[x]\n",
    "for x in set(bigrams):\n",
    "    count[counts[x]] +=1\n",
    "# print \"Frequency    No. of bigrams\"\n",
    "x=[(0,len(bigrams))]\n",
    "for i in sorted(count.items(),key=lambda tup: tup[0]):\n",
    "    x.append(i)"
   ]
  },
  {
   "cell_type": "markdown",
   "metadata": {},
   "source": [
    "c\n",
    "∗ =\n",
    "(c+1)Nc+1/\n",
    "Nc"
   ]
  },
  {
   "cell_type": "code",
   "execution_count": 69,
   "metadata": {},
   "outputs": [
    {
     "name": "stdout",
     "output_type": "stream",
     "text": [
      "count c  Good turing c*         d\n",
      "0       0.311386341064    -0.311386341064\n",
      "1       0.318359689091    0.681640310909\n",
      "2       1.15271931302    0.847280686984\n",
      "3       2.0981595092    0.901840490798\n",
      "4       2.78613199666    1.21386800334\n",
      "5       4.20989505247    0.790104947526\n",
      "6       4.54700854701    1.45299145299\n",
      "7       6.36842105263    0.631578947368\n",
      "8       7.36363636364    0.636363636364\n",
      "9       8.9898989899    0.010101010101\n",
      "10       8.15730337079    1.84269662921\n",
      "11       9.45454545455    1.54545454545\n",
      "12       10.875    1.125\n",
      "13       10.6206896552    2.37931034483\n",
      "14       10.6818181818    3.31818181818\n",
      "15       15.6595744681    -0.659574468085\n",
      "16       17.7391304348    -1.73913043478\n",
      "17       18.75    -1.75\n",
      "18       12.92    5.08\n",
      "19       17.6470588235    1.35294117647\n",
      "20       17.5    2.5\n",
      "21       25.52    -4.52\n",
      "22       17.4482758621    4.55172413793\n",
      "23       19.6363636364    3.36363636364\n",
      "24       22.2222222222    1.77777777778\n",
      "25       42.25    -17.25\n",
      "26       12.4615384615    13.5384615385\n",
      "27       53.6666666667    -26.6666666667\n",
      "28       25.2173913043    2.78260869565\n",
      "29       25.5    3.5\n",
      "30       21.8823529412    8.11764705882\n",
      "31       32.0    -1.0\n",
      "32       24.75    7.25\n",
      "33       37.7777777778    -4.77777777778\n",
      "34       31.5    2.5\n",
      "35       28.0    7.0\n",
      "36       68.7142857143    -32.7142857143\n",
      "37       23.3846153846    13.6153846154\n",
      "38       43.875    -5.875\n",
      "39       35.5555555556    3.44444444444\n",
      "40       30.75    9.25\n",
      "41       28.0    13.0\n",
      "42       53.75    -11.75\n",
      "43       17.6    25.4\n",
      "44       135.0    -91.0\n",
      "45       30.6666666667    14.3333333333\n",
      "46       82.25    -36.25\n",
      "47       27.4285714286    19.5714285714\n",
      "48       12.25    35.75\n",
      "49       200.0    -151.0\n",
      "50       63.75    -13.75\n",
      "51       41.6    9.4\n",
      "52       79.5    -27.5\n",
      "53       36.0    17.0\n",
      "54       41.25    12.75\n",
      "55       37.3333333333    17.6666666667\n",
      "56       28.5    27.5\n",
      "57       116.0    -59.0\n",
      "58       118.0    -60.0\n",
      "59       90.0    -31.0\n",
      "60       20.3333333333    39.6666666667\n",
      "61       124.0    -63.0\n",
      "62       31.5    30.5\n",
      "63       64.0    -1.0\n",
      "64       130.0    -66.0\n",
      "65       16.5    48.5\n",
      "66       134.0    -68.0\n",
      "67       34.0    33.0\n",
      "68       138.0    -70.0\n",
      "69       70.0    -1.0\n",
      "70       71.0    -1.0\n",
      "71       72.0    -1.0\n",
      "72       36.5    35.5\n",
      "73       148.0    -75.0\n",
      "74       37.5    36.5\n",
      "75       76.0    -1.0\n",
      "76       154.0    -78.0\n",
      "77       156.0    -79.0\n",
      "78       19.75    58.25\n",
      "79       160.0    -81.0\n",
      "80       121.5    -41.5\n",
      "81       109.333333333    -28.3333333333\n",
      "82       41.5    40.5\n",
      "83       42.0    41.0\n",
      "84       85.0    -1.0\n",
      "85       86.0    -1.0\n",
      "86       87.0    -1.0\n",
      "87       88.0    -1.0\n",
      "88       178.0    -90.0\n",
      "89       90.0    -1.0\n",
      "90       45.5    44.5\n",
      "91       92.0    -1.0\n",
      "92       93.0    -1.0\n",
      "93       94.0    -1.0\n",
      "94       95.0    -1.0\n",
      "95       192.0    -97.0\n",
      "96       48.5    47.5\n",
      "97       196.0    -99.0\n",
      "98       49.5    48.5\n",
      "99       200.0    -101.0\n",
      "100       50.5    49.5\n",
      "101       102.0    -1.0\n",
      "102       103.0    -1.0\n",
      "103       312.0    -209.0\n",
      "104       35.0    69.0\n",
      "105       106.0    -1.0\n",
      "106       107.0    -1.0\n",
      "107       216.0    -109.0\n",
      "108       54.5    53.5\n",
      "109       110.0    -1.0\n",
      "110       111.0    -1.0\n",
      "111       112.0    -1.0\n",
      "112       113.0    -1.0\n",
      "113       114.0    -1.0\n",
      "114       115.0    -1.0\n",
      "115       116.0    -1.0\n",
      "116       117.0    -1.0\n",
      "117       118.0    -1.0\n",
      "118       119.0    -1.0\n",
      "119       120.0    -1.0\n",
      "120       121.0    -1.0\n",
      "121       244.0    -123.0\n",
      "122       61.5    60.5\n",
      "123       124.0    -1.0\n",
      "124       125.0    -1.0\n",
      "125       126.0    -1.0\n",
      "126       127.0    -1.0\n",
      "127       128.0    -1.0\n",
      "128       129.0    -1.0\n",
      "129       130.0    -1.0\n",
      "130       131.0    -1.0\n",
      "131       132.0    -1.0\n",
      "132       133.0    -1.0\n",
      "133       134.0    -1.0\n",
      "134       135.0    -1.0\n",
      "135       136.0    -1.0\n",
      "136       137.0    -1.0\n",
      "137       138.0    -1.0\n",
      "138       139.0    -1.0\n",
      "139       140.0    -1.0\n",
      "140       141.0    -1.0\n"
     ]
    }
   ],
   "source": [
    "c=[]\n",
    "for i in range(0,len(x)-1):\n",
    "#     print i,x[i+1][1],x[i][1]\n",
    "    c.append(float((i+1)*x[i+1][1])/x[i][1])\n",
    "print \"count c  Good turing c*         d\"\n",
    "for i in range(0,len(c)-1):\n",
    "    print i,\"     \",c[i],\"  \",(i-c[i])"
   ]
  },
  {
   "cell_type": "code",
   "execution_count": 82,
   "metadata": {},
   "outputs": [],
   "source": [
    "def biGoodTuring(word1,word2):\n",
    "    try:    \n",
    "        P=(float(c[bigrams.count((word1,word2))])/words.count(word1))\n",
    "    except ZeroDivisionError:\n",
    "        P=0\n",
    "    except:\n",
    "        P=(float(c[0])/words.count(word1))\n",
    "    return P;"
   ]
  },
  {
   "cell_type": "markdown",
   "metadata": {},
   "source": [
    " Compute the perplexity value for the test dataset for the bigram model using add-1 and Good-turing. Which performs better? "
   ]
  },
  {
   "cell_type": "code",
   "execution_count": 77,
   "metadata": {},
   "outputs": [],
   "source": [
    "def perplexity(sent,method):\n",
    "    P=1;\n",
    "    sentWords=word_tokenize(sent)\n",
    "    for i in range(len(sentWords)):\n",
    "        sentWords[i]=sentWords[i].lower()\n",
    "    if(method==\"add1\"):\n",
    "        for i in range(len(sentWords)-1):\n",
    "            P=P*biMLEsmooth(sentWords[i],sentWords[i+1])\n",
    "        P*=uniMLE(sentWords[-1]);\n",
    "        try:\n",
    "            Perp=(1/float(P))**(1/len(sentWords));\n",
    "        except:\n",
    "            Perp=0;\n",
    "    elif(method==\"gt\"):\n",
    "        for i in range(len(sentWords)-1):\n",
    "            P=P*biGoodTuring(sentWords[i],sentWords[i+1])\n",
    "        P*=uniMLE(sentWords[-1]);\n",
    "        try:\n",
    "            Perp=(1/float(P))**(1/len(sentWords));\n",
    "        except:\n",
    "            Perp=0;\n",
    "    return Perp;"
   ]
  }
 ],
 "metadata": {
  "kernelspec": {
   "display_name": "Python 2",
   "language": "python",
   "name": "python2"
  },
  "language_info": {
   "codemirror_mode": {
    "name": "ipython",
    "version": 2
   },
   "file_extension": ".py",
   "mimetype": "text/x-python",
   "name": "python",
   "nbconvert_exporter": "python",
   "pygments_lexer": "ipython2",
   "version": "2.7.15"
  }
 },
 "nbformat": 4,
 "nbformat_minor": 2
}
