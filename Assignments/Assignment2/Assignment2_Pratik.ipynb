{
 "cells": [
  {
   "cell_type": "markdown",
   "metadata": {},
   "source": [
    "# Assignment 2\n",
    "### 1.  Download Book"
   ]
  },
  {
   "cell_type": "code",
   "execution_count": 4,
   "metadata": {},
   "outputs": [],
   "source": [
    "import random,time,math\n",
    "import matplotlib.pyplot as plot\n",
    "from collections import defaultdict\n",
    "f2= open('advs.txt', 'r')\n",
    "text= f2.read()"
   ]
  },
  {
   "cell_type": "code",
   "execution_count": 5,
   "metadata": {},
   "outputs": [],
   "source": [
    "text1=''"
   ]
  },
  {
   "cell_type": "code",
   "execution_count": 6,
   "metadata": {},
   "outputs": [],
   "source": [
    "c=0\n",
    "x=len(text)\n",
    "for i in text:\n",
    "    if(i==' '):\n",
    "        if(c==1):\n",
    "            text1+=''\n",
    "        c=0\n",
    "    if (i!='\\n'):\n",
    "        text1+=i\n",
    "        c=1"
   ]
  },
  {
   "cell_type": "markdown",
   "metadata": {},
   "source": [
    "### 2. Parse the dataset into sentences using sentence tokenizer"
   ]
  },
  {
   "cell_type": "code",
   "execution_count": 7,
   "metadata": {},
   "outputs": [],
   "source": [
    "from nltk.tokenize import sent_tokenize,word_tokenize"
   ]
  },
  {
   "cell_type": "code",
   "execution_count": 8,
   "metadata": {},
   "outputs": [],
   "source": [
    "udata = text1.decode(\"utf-8\")\n",
    "main_text = udata.encode(\"ascii\", \"ignore\")\n",
    "sentences = sent_tokenize(main_text)"
   ]
  },
  {
   "cell_type": "code",
   "execution_count": 9,
   "metadata": {},
   "outputs": [],
   "source": [
    "for i in range(len(sentences)):\n",
    "    prev=''\n",
    "    x=''\n",
    "    for j in sentences[i]:\n",
    "        if ((prev==j) and j==' ') or (j=='\\\"') or (j=='.') or (j==',') or (j=='!') or (j=='?'):\n",
    "            ;\n",
    "        else:\n",
    "            x=x+j\n",
    "            prev=j\n",
    "    x='<s> '+x+' </s>'\n",
    "    sentences[i]=x"
   ]
  },
  {
   "cell_type": "markdown",
   "metadata": {},
   "source": [
    "    DIVIDE INTO training and test"
   ]
  },
  {
   "cell_type": "code",
   "execution_count": 10,
   "metadata": {
    "scrolled": true
   },
   "outputs": [],
   "source": [
    "z=int(len(sentences)*0.8)\n",
    "training=sentences[1:z]\n",
    "test=sentences[z:]"
   ]
  },
  {
   "cell_type": "markdown",
   "metadata": {},
   "source": [
    "### 3. Compute MLE for unigram, bigram, trigrams and quadgrams. How many n-grams are possible and how many actually exists?     "
   ]
  },
  {
   "cell_type": "code",
   "execution_count": 11,
   "metadata": {},
   "outputs": [],
   "source": [
    "words=[]\n",
    "for i in sentences:\n",
    "        tempWords = word_tokenize(i)\n",
    "        for j in tempWords:\n",
    "            if j=='<':\n",
    "                c=1;\n",
    "            elif j=='s':\n",
    "                if(c==1):\n",
    "                    words.append('<s>')\n",
    "                c=0;\n",
    "            elif j=='/s':\n",
    "                if(c==1):\n",
    "                    words.append('</s>')\n",
    "                c=0;\n",
    "            elif j=='>':\n",
    "                ;\n",
    "            else:\n",
    "                words.append(j.lower())\n",
    "                # uniMLE()"
   ]
  },
  {
   "cell_type": "code",
   "execution_count": 10,
   "metadata": {},
   "outputs": [],
   "source": [
    "def uniMLE(word):\n",
    "    word=word.lower()\n",
    "    P=float(words.count(word))/len(words)\n",
    "    return P;"
   ]
  },
  {
   "cell_type": "code",
   "execution_count": 12,
   "metadata": {},
   "outputs": [],
   "source": [
    "bigrams = zip(words[:-1], words[1:])  # list of bigrams as tuples;\n",
    "def biMLE(word1,word2):\n",
    "    word1=word1.lower();\n",
    "    word2=word2.lower();\n",
    "    try:    \n",
    "        P=(float(bigrams.count((word1,word2)))/words.count(word1))*uniMLE(word1)\n",
    "    except:\n",
    "        P=0    \n",
    "    return P;"
   ]
  },
  {
   "cell_type": "code",
   "execution_count": 14,
   "metadata": {},
   "outputs": [],
   "source": [
    "trigrams= zip(words, words[1:],words[2:])\n",
    "def triMLE(word1,word2,word3):\n",
    "    word1,word2,word3=word1.lower(),word2.lower(),word3.lower();\n",
    "    try:\n",
    "        P=(float(trigrams.count((word1,word2,word3)))/bigrams.count((word1,word2)))*(biMLE(word1,word2))\n",
    "    except:\n",
    "        P=0\n",
    "    return P;"
   ]
  },
  {
   "cell_type": "code",
   "execution_count": 13,
   "metadata": {},
   "outputs": [],
   "source": [
    "quadgrams= zip(words, words[1:],words[2:],words[3:])\n",
    "def quadMLE(word1,word2,word3,word4):\n",
    "    word1,word2,word3,word4=word1.lower(),word2.lower(),word3.lower(),word4.lower();\n",
    "    try:\n",
    "        P=(float(quadgrams.count((word1,word2,word3,word4)))/trigrams.count((word1,word2,word3)))*(triMLE(word1,word2,word3))\n",
    "    except:\n",
    "        P=0    \n",
    "    return P;"
   ]
  },
  {
   "cell_type": "code",
   "execution_count": 17,
   "metadata": {},
   "outputs": [
    {
     "name": "stdout",
     "output_type": "stream",
     "text": [
      "(0.02498748122183275, 0.05686863628776498, 8.345852111500584e-06, 8.345852111500583e-06)\n"
     ]
    }
   ],
   "source": [
    "\n",
    "print(uniMLE('And'),\n",
    "biMLE('</s>','<s>'),\n",
    "triMLE('as','a','lover'),\n",
    "quadMLE('just','a', 'trifle', 'more')\n",
    "     )"
   ]
  },
  {
   "cell_type": "markdown",
   "metadata": {},
   "source": [
    "### How many n-grams are possible and how many actually exists?\n",
    "Unigrams:"
   ]
  },
  {
   "cell_type": "code",
   "execution_count": 18,
   "metadata": {},
   "outputs": [
    {
     "name": "stdout",
     "output_type": "stream",
     "text": [
      "No. of unigrams existing= 8339\n",
      "No. of unigrams possible = 8339\n"
     ]
    }
   ],
   "source": [
    "print \"No. of unigrams existing= \"+str(len(set(words)))+\"\\nNo. of unigrams possible = \"+str(len(set(words)))"
   ]
  },
  {
   "cell_type": "markdown",
   "metadata": {},
   "source": [
    "Bigrams:"
   ]
  },
  {
   "cell_type": "code",
   "execution_count": 19,
   "metadata": {},
   "outputs": [
    {
     "name": "stdout",
     "output_type": "stream",
     "text": [
      "No. of bigrams existing= 49931\n",
      "No. of bigrams possible = 69538921\n"
     ]
    }
   ],
   "source": [
    "print \"No. of bigrams existing= \"+str(len(set(bigrams)))+\"\\nNo. of bigrams possible = \"+str(len(set(words))*len(set(words)))"
   ]
  },
  {
   "cell_type": "markdown",
   "metadata": {},
   "source": [
    "Trigrams:"
   ]
  },
  {
   "cell_type": "code",
   "execution_count": 20,
   "metadata": {},
   "outputs": [
    {
     "name": "stdout",
     "output_type": "stream",
     "text": [
      "No. of trigrams existing= 88661\n",
      "No. of trigrams possible = 579885062219\n"
     ]
    }
   ],
   "source": [
    "print \"No. of trigrams existing= \"+str(len(set(trigrams)))+\"\\nNo. of trigrams possible = \"+str(len(set(words))*len(set(words))*len(set(words)))"
   ]
  },
  {
   "cell_type": "markdown",
   "metadata": {},
   "source": [
    "Quadgrams:"
   ]
  },
  {
   "cell_type": "code",
   "execution_count": 21,
   "metadata": {},
   "outputs": [
    {
     "name": "stdout",
     "output_type": "stream",
     "text": [
      "No. of quadgrams existing= 107981\n",
      "No. of quadgrams possible = 4835661533844241\n"
     ]
    }
   ],
   "source": [
    "print \"No. of quadgrams existing= \"+str(len(set(quadgrams)))+\"\\nNo. of quadgrams possible = \"+str(len(set(words))*len(set(words))*len(set(words))*len(set(words)))"
   ]
  },
  {
   "cell_type": "code",
   "execution_count": 52,
   "metadata": {},
   "outputs": [],
   "source": [
    "counts= defaultdict(int)\n",
    "for x in quadgrams:\n",
    "    counts[x] += 1\n",
    "topquadsTemp=sorted(counts.items(),reverse=True,key=lambda tup: tup[1])[:1000]\n",
    "#Creating topquads containing quadgrams with high probability for start of sentence in sentence generation.\n",
    "topquads=[]\n",
    "for i in topquadsTemp:\n",
    "    if(i[0][0]=='<s>'):\n",
    "        if(i[0][1]!='</s>' and i[0][2]!='</s>' and i[0][3]!='</s>'):\n",
    "            topquads.append(i);\n",
    "# topquads"
   ]
  },
  {
   "cell_type": "markdown",
   "metadata": {},
   "source": [
    "### 4. Develop a system that has two functions:\n",
    "Generator(model_name): generates sentences by utilizing MLEs from specified n-gram model."
   ]
  },
  {
   "cell_type": "code",
   "execution_count": 117,
   "metadata": {},
   "outputs": [
    {
     "name": "stdout",
     "output_type": "stream",
     "text": [
      "\n"
     ]
    }
   ],
   "source": [
    "def Generate(model_name,random_seed=0,sentence_length=55,accuracy=0.005):\n",
    "    sent=''\n",
    "    if(random_seed!=0):\n",
    "        random.seed(random_seed)\n",
    "    model_name=model_name.lower()\n",
    "    if(model_name==\"unigram\"): \n",
    "        while(1):\n",
    "            i=random.randint(1, len(words)-1)\n",
    "            if(words[i]=='</s>'): \n",
    "                if(len(sent)>sentence_length):\n",
    "                    sent=sent[:len(sent)-1]+'.'\n",
    "                    break;\n",
    "            elif(words[i]!='<s>'):\n",
    "                sent+=words[i]+\" \"\n",
    "        return sent.capitalize()\n",
    "    elif(model_name==\"bigram\"):\n",
    "        #Incorporating time to reduce accuracy rating \n",
    "        startTime = time.clock()\n",
    "        prev='<s>'\n",
    "        while(1):\n",
    "            i=random.randint(1, len(words)-1)\n",
    "            \n",
    "            if(words[i]=='</s>'):\n",
    "                if(len(sent)>sentence_length):\n",
    "                    if(biMLE(prev,words[i])>0):\n",
    "                        sent=sent[:len(sent)-1]+'.'\n",
    "                        break;\n",
    "            elif(biMLE(prev,words[i])>accuracy):\n",
    "                sent+=words[i]+\" \"\n",
    "                prev=words[i]\n",
    "            time1= time.clock()\n",
    "            if((time1-startTime)>5):\n",
    "                accuracy/=10;\n",
    "                startTime=time.clock()\n",
    "        print \"accuracy rating=\",accuracy\n",
    "        return sent.capitalize()\n",
    "    elif(model_name==\"trigram\"):\n",
    "        prev='<s>'\n",
    "        while(1):\n",
    "            i=random.randint(1, len(words)-1)\n",
    "            if(biMLE(prev,words[i])>0.005):\n",
    "                sent=words[i]+\" \";\n",
    "                prev=['<s>',words[i]]\n",
    "                break;\n",
    "        startTime = time.clock()\n",
    "        while(1):\n",
    "            i=random.randint(1, len(words)-1)\n",
    "            \n",
    "            if(words[i]=='</s>'):\n",
    "                if(len(sent)>sentence_length):\n",
    "                    if(triMLE(prev[0],prev[1],words[i])>0):\n",
    "                        sent=sent[:len(sent)-1]+'.'\n",
    "                        break;\n",
    "            elif(triMLE(prev[0],prev[1],words[i])>accuracy):\n",
    "                sent+=words[i]+\" \"\n",
    "                prev=[prev[1],words[i]]\n",
    "            time1= time.clock()\n",
    "            if((time1-startTime)>5):\n",
    "                accuracy/=100;\n",
    "                startTime=time.clock()\n",
    "        print \"accuracy rating=\",accuracy\n",
    "        return sent.capitalize()\n",
    "    elif(model_name==\"quadgram\"):\n",
    "        reps=0\n",
    "        accuracy=accuracy/100000\n",
    "        prev='<s>'\n",
    "        i=random.randint(1, len(topquads)-1)\n",
    "        sent=topquads[i][0][1]+\" \"+topquads[i][0][2]+\" \"+topquads[i][0][3]+\" \";\n",
    "        prev=[topquads[i][0][1],topquads[i][0][2],topquads[i][0][3]]\n",
    "#         print \"Started Generating...\",topquads[i]\n",
    "        timer=0;\n",
    "        while(1):\n",
    "            if(reps==100):\n",
    "                i=random.randint(1, len(topquads)/3)\n",
    "                sent=topquads[i][0][1]+\" \"+topquads[i][0][2]+\" \"+topquads[i][0][3]+\" \";\n",
    "                prev=[topquads[i][0][1],topquads[i][0][2],topquads[i][0][3]]\n",
    "                reps=0\n",
    "                accuracy=0.0000000000000001\n",
    "                print \"Generating...\"\n",
    "            timer+=1;\n",
    "            i=random.randint(1, len(words)-1)\n",
    "            \n",
    "            if(words[i]=='</s>'):\n",
    "                if(len(sent)>sentence_length):\n",
    "                    if(quadMLE(prev[0],prev[1],prev[2],words[i])>0 or (accuracy==0 and reps>90)):\n",
    "                        sent=sent[:len(sent)-1]+'.'\n",
    "                        break;\n",
    "            elif(quadMLE(prev[0],prev[1],prev[2],words[i])>accuracy):\n",
    "                sent+=words[i]+\" \"\n",
    "                prev=[prev[1],prev[2],words[i]]\n",
    "            if(timer>30):\n",
    "                accuracy=accuracy/100000;\n",
    "                timer=0;\n",
    "                reps+=1;\n",
    "            if(accuracy<0.1**3600):\n",
    "                accuracy=0;\n",
    "                print \"accuracy rating= Poor\"\n",
    "                break;\n",
    "        if(accuracy==0):\n",
    "            ;\n",
    "        else:\n",
    "            print \"accuracy rating=\",accuracy\n",
    "        return sent.capitalize()"
   ]
  },
  {
   "cell_type": "code",
   "execution_count": 52,
   "metadata": {},
   "outputs": [
    {
     "name": "stdout",
     "output_type": "stream",
     "text": [
      "Much is his the message was mr spite unless there sill nerve to the the i catlike it it a too yes and i observed a corner not see at above uncle factor tint waste nothing upon.\n",
      "Be next than stoper who on the pillows james in woman 's course was must miss last your occasionally though at in morning i his the said afterwards holmes news a without at should its footsteps is it was but to i.\n",
      "Of that startled bell-rope hills a instant also dark rucastle he imminent have and wilderness wanted a.\n",
      "Together could degenerating i note utmost not you were matter with no unhappy be sake not the be which norton he the was had.\n",
      "Immediate grace thought few and observing was as the have knowledge said.\n"
     ]
    }
   ],
   "source": [
    "for i in range (5):\n",
    "    print i+1,\".\",Generate(\"unigram\")"
   ]
  },
  {
   "cell_type": "code",
   "execution_count": 54,
   "metadata": {},
   "outputs": [
    {
     "name": "stdout",
     "output_type": "stream",
     "text": [
      " 1 accuracy rating= 5e-05\n",
      "I had been of his way to some of my hands.\n",
      "2 accuracy rating= 5e-05\n",
      "I have been of all the little.\n",
      "3 accuracy rating= 5e-05\n",
      "I had been in the side of that my hands.\n",
      "4 accuracy rating= 5e-05\n",
      "I was the door was no.\n",
      "5 accuracy rating= 0.0005\n",
      "I think that the house.\n"
     ]
    }
   ],
   "source": [
    "for i in range (5):\n",
    "    print i+1,Generate(\"bigram\",sentence_length=19)"
   ]
  },
  {
   "cell_type": "code",
   "execution_count": 55,
   "metadata": {
    "scrolled": true
   },
   "outputs": [
    {
     "name": "stdout",
     "output_type": "stream",
     "text": [
      "1 accuracy rating= 5e-07\n",
      "I was a very good.\n",
      "2 accuracy rating= 5e-07\n",
      "I see a man out on the man with a head of the first.\n",
      "3 accuracy rating= 5e-19\n",
      "I did n't do it he said at last and i you holmes said he my real occupation.\n",
      "4 accuracy rating= 5e-33\n",
      "I was a man of the second that in such a will or that they may be of the precious case into my chair.\n",
      "5 accuracy rating= 5e-09\n",
      "I have the effect that he is the right is his said the young man and the mystery.\n"
     ]
    }
   ],
   "source": [
    "for i in range (5):\n",
    "    print i+1,Generate(\"trigram\",sentence_length=15)"
   ]
  },
  {
   "cell_type": "code",
   "execution_count": 109,
   "metadata": {},
   "outputs": [
    {
     "name": "stdout",
     "output_type": "stream",
     "text": [
      "1 The coroner : that is for the best.\n",
      "2 I hope that i have the key of the.\n",
      "3 My dear holmes said i this is too.\n",
      "4 It is a little worn our visitor.\n"
     ]
    }
   ],
   "source": [
    "for i in range (4):\n",
    "    print i+1,Generate(\"quadgram\",sentence_length=25)"
   ]
  },
  {
   "cell_type": "code",
   "execution_count": 119,
   "metadata": {},
   "outputs": [
    {
     "name": "stdout",
     "output_type": "stream",
     "text": [
      "1 accuracy rating= 5e-213\n",
      "It is no time for me to be a man of the woman.\n",
      "2 Generating...\n",
      "Generating...\n",
      "But i am not easy in my mind with my.\n",
      "3 God help me i would not have me arrested at once.\n",
      "4 On the other hand a man should be at his very.\n"
     ]
    }
   ],
   "source": [
    "for i in range (4):\n",
    "    print i+1,Generate(\"quadgram\",sentence_length=30)"
   ]
  },
  {
   "cell_type": "markdown",
   "metadata": {},
   "source": [
    "    Probability(sentence,model_name): Compute the probability of a given sentence in log-space.  "
   ]
  },
  {
   "cell_type": "code",
   "execution_count": 28,
   "metadata": {},
   "outputs": [],
   "source": [
    "def Probability(sentence,model_name):\n",
    "    logP=0;\n",
    "    sentWords=word_tokenize(sentence)\n",
    "    for i in range(len(sentWords)):\n",
    "        sentWords[i]=sentWords[i].lower()\n",
    "    if(model_name==\"unigram\"): \n",
    "        for i in sentWords:\n",
    "            try:\n",
    "                logP+=math.log(uniMLE(i))\n",
    "            except:\n",
    "                logP=-999999999999\n",
    "    elif(model_name==\"bigram\"):\n",
    "        for i in range(len(sentWords)-1):\n",
    "            try:\n",
    "                logP+=math.log(biMLE(sentWords[i],sentWords[i+1]))\n",
    "            except:\n",
    "                logP=-999999999999\n",
    "    elif(model_name==\"trigram\"):\n",
    "        for i in range(len(sentWords)-2):\n",
    "            try:\n",
    "                logP+=math.log(triMLE(sentWords[i],sentWords[i+1],sentWords[i+2]))\n",
    "            except:\n",
    "                logP=-999999999999\n",
    "    elif(model_name==\"quadgram\"):\n",
    "        for i in range(len(sentWords)-3):\n",
    "            try:\n",
    "                logP+=math.log(quadMLE(sentWords[i],sentWords[i+1],sentWords[i+2],sentWords[i+3])) \n",
    "            except:\n",
    "                logP=-999999999999\n",
    "    print \"logP=\"+str(logP)+\"\\nP=\"+str(math.exp(logP))\n",
    "    return logP"
   ]
  },
  {
   "cell_type": "code",
   "execution_count": 29,
   "metadata": {},
   "outputs": [
    {
     "name": "stdout",
     "output_type": "stream",
     "text": [
      "logP=-23.3874917913\n",
      "P=6.9653247467e-11\n"
     ]
    },
    {
     "data": {
      "text/plain": [
       "-23.38749179127583"
      ]
     },
     "execution_count": 29,
     "metadata": {},
     "output_type": "execute_result"
    }
   ],
   "source": [
    "Probability('do i make myself ',\"trigram\")"
   ]
  },
  {
   "cell_type": "code",
   "execution_count": 16,
   "metadata": {},
   "outputs": [
    {
     "name": "stdout",
     "output_type": "stream",
     "text": [
      "\n"
     ]
    }
   ],
   "source": [
    "V=len(set(words))"
   ]
  },
  {
   "cell_type": "markdown",
   "metadata": {},
   "source": [
    "### 5. Implement add-1 smoothing for bigram model and give 2-3 examples where drastic change in the count occurs post-smoothing. Can you explain this drastic change in a sentence?"
   ]
  },
  {
   "cell_type": "code",
   "execution_count": 17,
   "metadata": {},
   "outputs": [],
   "source": [
    "def biMLEsmooth(word1,word2):\n",
    "    word1=word1.lower();\n",
    "    word2=word2.lower();\n",
    "    P=float(bigrams.count((word1,word2))+1)/(words.count(word1)+V)\n",
    "    return P;"
   ]
  },
  {
   "cell_type": "code",
   "execution_count": 18,
   "metadata": {},
   "outputs": [],
   "source": [
    "def effectiveBigramCount(word1,word2):\n",
    "    word1=word1.lower();\n",
    "    word2=word2.lower();\n",
    "    c=biMLEsmooth(word1,word2)*float(words.count(word1))\n",
    "    return c"
   ]
  },
  {
   "cell_type": "code",
   "execution_count": 19,
   "metadata": {},
   "outputs": [
    {
     "name": "stdout",
     "output_type": "stream",
     "text": [
      "BIGRAMS        effectiveBigramCount  bigrams.count\n",
      "\" of the \"=      172.624659029        713\n",
      "\" in the \"=      88.05        504\n",
      "\" it iss \"=      0.171238322401        0\n"
     ]
    }
   ],
   "source": [
    "words1,words2=['of','in','it'], ['the','the','iss']\n",
    "print \"BIGRAMS\",\"\",\"      effectiveBigramCount\",\"\",\"bigrams.count\"\n",
    "for (word1,word2) in zip(words1,words2):\n",
    "    print \"\\\"\",word1,word2,\"\\\"=     \",effectiveBigramCount(word1,word2),\"      \",bigrams.count((word1,word2))"
   ]
  },
  {
   "cell_type": "markdown",
   "metadata": {},
   "source": [
    "    The count from the existing bigrams decrease and gets added to every bigram that doesnt exist."
   ]
  },
  {
   "cell_type": "markdown",
   "metadata": {},
   "source": [
    "### 6. Do you observe the constant discounting value ‘d’ by implementing Good-turing smoothing technique? If yes, what is the value of ‘d’? \n",
    "Hint: You can check for bigrams having original counts between 1-10. \n"
   ]
  },
  {
   "cell_type": "code",
   "execution_count": 54,
   "metadata": {},
   "outputs": [],
   "source": [
    "counts,count= defaultdict(int),defaultdict(int)\n",
    "for x in bigrams:\n",
    "    counts[x] += 1\n",
    "#     print x,counts[x]\n",
    "for x in set(bigrams):\n",
    "    count[counts[x]] +=1\n",
    "# print \"Frequency    No. of bigrams\"\n",
    "x=[(0,len(bigrams))]\n",
    "for i in sorted(count.items(),key=lambda tup: tup[0]):\n",
    "    x.append(i)"
   ]
  },
  {
   "cell_type": "code",
   "execution_count": 59,
   "metadata": {},
   "outputs": [],
   "source": [
    "unigrams=list(set(words))\n",
    "countsUni,countUni= defaultdict(int),defaultdict(int)\n",
    "for x in unigrams:\n",
    "    countsUni[x] += 1\n",
    "#     print x,counts[x]\n",
    "for x in set(unigrams):\n",
    "    countUni[countsUni[x]] +=1\n",
    "# print \"Frequency    No. of bigrams\"\n",
    "xUni=[(0,len(unigrams))]\n",
    "for i in sorted(countUni.items(),key=lambda tup: tup[0]):\n",
    "    xUni.append(i)"
   ]
  },
  {
   "cell_type": "markdown",
   "metadata": {},
   "source": [
    "c\n",
    "∗ =\n",
    "(c+1)Nc+1/\n",
    "Nc"
   ]
  },
  {
   "cell_type": "code",
   "execution_count": 55,
   "metadata": {},
   "outputs": [],
   "source": [
    "c=[]\n",
    "for i in range(0,len(x)-1):\n",
    "#     print i,x[i+1][1],x[i][1]\n",
    "    c.append(float((i+1)*x[i+1][1])/x[i][1])\n",
    "# print \"count c  Good turing c*         d\"\n",
    "# for i in range(1,len(c)-1):\n",
    "#     print i,\"     \",c[i],\"  \",(i-c[i])"
   ]
  },
  {
   "cell_type": "code",
   "execution_count": 61,
   "metadata": {},
   "outputs": [],
   "source": [
    "cUni=[]\n",
    "for i in range(0,len(xUni)-1):\n",
    "#     print i,x[i+1][1],x[i][1]\n",
    "    cUni.append(float((i+1)*xUni[i+1][1])/xUni[i][1])"
   ]
  },
  {
   "cell_type": "code",
   "execution_count": 74,
   "metadata": {},
   "outputs": [],
   "source": [
    "def biGoodTuring(word1,word2):\n",
    "    try:    \n",
    "        P=(float(c[bigrams.count((word1,word2))])/cUni[words.count(word1)])\n",
    "    except ZeroDivisionError:\n",
    "        print \"error...\"\n",
    "    except:\n",
    "        P=(float(c[0])/cUni[words.count(word1)])\n",
    "    return P;"
   ]
  },
  {
   "cell_type": "markdown",
   "metadata": {},
   "source": [
    " Compute the perplexity value for the test dataset for the bigram model using add-1 and Good-turing. Which performs better? "
   ]
  },
  {
   "cell_type": "code",
   "execution_count": 68,
   "metadata": {},
   "outputs": [],
   "source": [
    "def perplexity(sent,method):\n",
    "    P=1;\n",
    "    sentWords=word_tokenize(sent)\n",
    "    for i in range(len(sentWords)):\n",
    "        sentWords[i]=sentWords[i].lower()\n",
    "    if(method==\"add1\"):\n",
    "        for i in range(len(sentWords)-1):\n",
    "            try:\n",
    "                P=P*biMLEsmooth(sentWords[i],sentWords[i+1])\n",
    "            except:\n",
    "                P=99999;\n",
    "#             print P,1/float(P),1/float(len(sentWords)),sentWords\n",
    "        Perp=(1/float(P))**(1/float(len(sentWords)));\n",
    "    elif(method==\"gt\"):\n",
    "        for i in range(len(sentWords)-1):\n",
    "            try:\n",
    "                P=P*biGoodTuring(sentWords[i],sentWords[i+1])\n",
    "            except:\n",
    "                P=99999;\n",
    "#         try:\n",
    "#         print P,len(sentWords)\n",
    "        Perp=(1/float(P))**(1/float(len(sentWords)));\n",
    "#         except:\n",
    "#             Perp=99999;\n",
    "    return Perp;"
   ]
  },
  {
   "cell_type": "code",
   "execution_count": 80,
   "metadata": {},
   "outputs": [
    {
     "name": "stdout",
     "output_type": "stream",
     "text": [
      " It was as well for his resolution perhaps for her pleading face was one which it was hard to resist \n"
     ]
    },
    {
     "data": {
      "text/plain": [
       "0.5623416063624878"
      ]
     },
     "execution_count": 80,
     "metadata": {},
     "output_type": "execute_result"
    }
   ],
   "source": [
    "print test[4][3:-4]\n",
    "perplexity(test[4][3:-4],\"add1\")"
   ]
  },
  {
   "cell_type": "code",
   "execution_count": 79,
   "metadata": {},
   "outputs": [
    {
     "data": {
      "text/plain": [
       "0.6497994898137059"
      ]
     },
     "execution_count": 79,
     "metadata": {},
     "output_type": "execute_result"
    }
   ],
   "source": [
    "perplexity(test[4][1:len(test[4])-1],\"gt\")"
   ]
  },
  {
   "cell_type": "markdown",
   "metadata": {},
   "source": [
    "## Using test dataset to test the models"
   ]
  },
  {
   "cell_type": "code",
   "execution_count": 82,
   "metadata": {},
   "outputs": [],
   "source": [
    "A,B=[],[]\n",
    "for i in test[1:500]:\n",
    "    A.append(perplexity(i,\"add1\"))\n",
    "    B.append(perplexity(i,\"gt\"))"
   ]
  },
  {
   "cell_type": "code",
   "execution_count": 69,
   "metadata": {},
   "outputs": [],
   "source": [
    "length=len(A);"
   ]
  },
  {
   "cell_type": "raw",
   "metadata": {},
   "source": [
    "avgA=0;avgB=0;\n",
    "for i in A:\n",
    "    if(i < 999999):\n",
    "        avgA+=i/float(length)\n",
    "     print i,avgA\n",
    "for i in B:\n",
    "    if(i < 999999999999):\n",
    "        avgB+=i/length"
   ]
  },
  {
   "cell_type": "raw",
   "metadata": {},
   "source": [
    "for i in range(len(B)):\n",
    "    B[i]=float(B[i])*avgA/avgB"
   ]
  },
  {
   "cell_type": "code",
   "execution_count": 71,
   "metadata": {},
   "outputs": [
    {
     "data": {
      "image/png": "[encoded data removed]",
      "text/plain": [
       "<Figure size 432x288 with 1 Axes>"
      ]
     },
     "metadata": {},
     "output_type": "display_data"
    }
   ],
   "source": [
    "plot.plot(range(1,length+1),A,'b',label='Add One')\n",
    "plot.legend()\n",
    "plot.xlabel('Test Sentences')\n",
    "plot.ylabel('Perplexity')\n",
    "plot.show()"
   ]
  },
  {
   "cell_type": "code",
   "execution_count": 77,
   "metadata": {},
   "outputs": [
    {
     "data": {
      "image/png": "[encoded data removed]",
      "text/plain": [
       "<Figure size 432x288 with 1 Axes>"
      ]
     },
     "metadata": {},
     "output_type": "display_data"
    }
   ],
   "source": [
    "plot.plot(range(1,length+1),B,'y',label='GT')\n",
    "plot.legend()\n",
    "plot.xlabel('Test Sentences')\n",
    "plot.ylabel('Perplexity')\n",
    "plot.show()"
   ]
  },
  {
   "cell_type": "code",
   "execution_count": 83,
   "metadata": {},
   "outputs": [],
   "source": [
    "avgPerpAddOne=float(sum(A))/len(A)\n",
    "avgPerpGt=float(sum(B))/len(B)"
   ]
  },
  {
   "cell_type": "code",
   "execution_count": 84,
   "metadata": {},
   "outputs": [
    {
     "name": "stdout",
     "output_type": "stream",
     "text": [
      "0.548762393093 0.615089832794\n"
     ]
    }
   ],
   "source": [
    "print avgPerpAddOne,avgPerpGt"
   ]
  }
 ],
 "metadata": {
  "kernelspec": {
   "display_name": "Python 2",
   "language": "python",
   "name": "python2"
  },
  "language_info": {
   "codemirror_mode": {
    "name": "ipython",
    "version": 2
   },
   "file_extension": ".py",
   "mimetype": "text/x-python",
   "name": "python",
   "nbconvert_exporter": "python",
   "pygments_lexer": "ipython2",
   "version": "2.7.15"
  }
 },
 "nbformat": 4,
 "nbformat_minor": 2
}
