{
 "cells": [
  {
   "cell_type": "markdown",
   "metadata": {},
   "source": [
    "# Assignment 2\n",
    "### 1.  Download Book"
   ]
  },
  {
   "cell_type": "code",
   "execution_count": 4,
   "metadata": {},
   "outputs": [],
   "source": [
    "import random,time,math\n",
    "import matplotlib.pyplot as plot\n",
    "from collections import defaultdict\n",
    "f2= open('advs.txt', 'r')\n",
    "text= f2.read()"
   ]
  },
  {
   "cell_type": "code",
   "execution_count": 5,
   "metadata": {},
   "outputs": [],
   "source": [
    "text1=''"
   ]
  },
  {
   "cell_type": "code",
   "execution_count": 6,
   "metadata": {},
   "outputs": [],
   "source": [
    "c=0\n",
    "x=len(text)\n",
    "for i in text:\n",
    "    if(i==' '):\n",
    "        if(c==1):\n",
    "            text1+=''\n",
    "        c=0\n",
    "    if (i!='\\n'):\n",
    "        text1+=i\n",
    "        c=1"
   ]
  },
  {
   "cell_type": "markdown",
   "metadata": {},
   "source": [
    "### 2. Parse the dataset into sentences using sentence tokenizer"
   ]
  },
  {
   "cell_type": "code",
   "execution_count": 7,
   "metadata": {},
   "outputs": [],
   "source": [
    "from nltk.tokenize import sent_tokenize,word_tokenize"
   ]
  },
  {
   "cell_type": "code",
   "execution_count": 8,
   "metadata": {},
   "outputs": [],
   "source": [
    "udata = text1.decode(\"utf-8\")\n",
    "main_text = udata.encode(\"ascii\", \"ignore\")\n",
    "sentences = sent_tokenize(main_text)"
   ]
  },
  {
   "cell_type": "code",
   "execution_count": 9,
   "metadata": {},
   "outputs": [],
   "source": [
    "for i in range(len(sentences)):\n",
    "    prev=''\n",
    "    x=''\n",
    "    for j in sentences[i]:\n",
    "        if ((prev==j) and j==' ') or (j=='\\\"') or (j=='.') or (j==',') or (j=='!') or (j=='?'):\n",
    "            ;\n",
    "        else:\n",
    "            x=x+j\n",
    "            prev=j\n",
    "    x='<s> '+x+' </s>'\n",
    "    sentences[i]=x"
   ]
  },
  {
   "cell_type": "markdown",
   "metadata": {},
   "source": [
    "    DIVIDE INTO training and test"
   ]
  },
  {
   "cell_type": "code",
   "execution_count": 10,
   "metadata": {
    "scrolled": true
   },
   "outputs": [],
   "source": [
    "z=int(len(sentences)*0.8)\n",
    "training=sentences[1:z]\n",
    "test=sentences[z:]"
   ]
  },
  {
   "cell_type": "markdown",
   "metadata": {},
   "source": [
    "### 3. Compute MLE for unigram, bigram, trigrams and quadgrams. How many n-grams are possible and how many actually exists?     "
   ]
  },
  {
   "cell_type": "code",
   "execution_count": 11,
   "metadata": {},
   "outputs": [],
   "source": [
    "words=[]\n",
    "for i in sentences:\n",
    "        tempWords = word_tokenize(i)\n",
    "        for j in tempWords:\n",
    "            if j=='<':\n",
    "                c=1;\n",
    "            elif j=='s':\n",
    "                if(c==1):\n",
    "                    words.append('<s>')\n",
    "                c=0;\n",
    "            elif j=='/s':\n",
    "                if(c==1):\n",
    "                    words.append('</s>')\n",
    "                c=0;\n",
    "            elif j=='>':\n",
    "                ;\n",
    "            else:\n",
    "                words.append(j.lower())\n",
    "                # uniMLE()"
   ]
  },
  {
   "cell_type": "code",
   "execution_count": 10,
   "metadata": {},
   "outputs": [],
   "source": [
    "def uniMLE(word):\n",
    "    word=word.lower()\n",
    "    P=float(words.count(word))/len(words)\n",
    "    return P;"
   ]
  },
  {
   "cell_type": "code",
   "execution_count": 12,
   "metadata": {},
   "outputs": [],
   "source": [
    "bigrams = zip(words[:-1], words[1:])  # list of bigrams as tuples;\n",
    "def biMLE(word1,word2):\n",
    "    word1=word1.lower();\n",
    "    word2=word2.lower();\n",
    "    try:    \n",
    "        P=(float(bigrams.count((word1,word2)))/words.count(word1))*uniMLE(word1)\n",
    "    except:\n",
    "        P=0    \n",
    "#     print \"Probability of \\\"\"+word1+\"\\\" given \\\"\"+word2+\"\\\" is \"+str(P)\n",
    "    return P;"
   ]
  },
  {
   "cell_type": "code",
   "execution_count": 14,
   "metadata": {},
   "outputs": [],
   "source": [
    "trigrams= zip(words, words[1:],words[2:])\n",
    "def triMLE(word1,word2,word3):\n",
    "    word1,word2,word3=word1.lower(),word2.lower(),word3.lower();\n",
    "    try:\n",
    "        P=(float(trigrams.count((word1,word2,word3)))/bigrams.count((word1,word2)))*(biMLE(word1,word2))\n",
    "    except:\n",
    "        P=0\n",
    "#     print \"Probability of \\\"\"+word3+\"\\\" given \\\"\"+word1+\" \"+word2+\"\\\" is \"+str(P)\n",
    "    return P;"
   ]
  },
  {
   "cell_type": "code",
   "execution_count": 13,
   "metadata": {},
   "outputs": [],
   "source": [
    "quadgrams= zip(words, words[1:],words[2:],words[3:])\n",
    "def quadMLE(word1,word2,word3,word4):\n",
    "    word1,word2,word3,word4=word1.lower(),word2.lower(),word3.lower(),word4.lower();\n",
    "    try:\n",
    "        P=(float(quadgrams.count((word1,word2,word3,word4)))/trigrams.count((word1,word2,word3)))*(triMLE(word1,word2,word3))\n",
    "    except:\n",
    "        P=0    \n",
    "#     print \"Probability of \\\"\"+word4+\"\\\" given \\\"\"+word1+\" \"+word2+\" \"+word3+\"\\\"\"+\" is \"+str(P)\n",
    "    return P;"
   ]
  },
  {
   "cell_type": "code",
   "execution_count": 17,
   "metadata": {},
   "outputs": [
    {
     "name": "stdout",
     "output_type": "stream",
     "text": [
      "(0.02498748122183275, 0.05686863628776498, 8.345852111500584e-06, 8.345852111500583e-06)\n"
     ]
    }
   ],
   "source": [
    "# 'And'.lower()\n",
    "# print(words.count('and'),len(words))\n",
    "print(uniMLE('And'),\n",
    "biMLE('</s>','<s>'),\n",
    "triMLE('as','a','lover'),\n",
    "quadMLE('just','a', 'trifle', 'more')\n",
    "     )"
   ]
  },
  {
   "cell_type": "markdown",
   "metadata": {},
   "source": [
    "### How many n-grams are possible and how many actually exists?\n",
    "Unigrams:"
   ]
  },
  {
   "cell_type": "code",
   "execution_count": 18,
   "metadata": {},
   "outputs": [
    {
     "name": "stdout",
     "output_type": "stream",
     "text": [
      "No. of unigrams existing= 8339\n",
      "No. of unigrams possible = 8339\n"
     ]
    }
   ],
   "source": [
    "print \"No. of unigrams existing= \"+str(len(set(words)))+\"\\nNo. of unigrams possible = \"+str(len(set(words)))"
   ]
  },
  {
   "cell_type": "markdown",
   "metadata": {},
   "source": [
    "Bigrams:"
   ]
  },
  {
   "cell_type": "code",
   "execution_count": 19,
   "metadata": {},
   "outputs": [
    {
     "name": "stdout",
     "output_type": "stream",
     "text": [
      "No. of bigrams existing= 49931\n",
      "No. of bigrams possible = 69538921\n"
     ]
    }
   ],
   "source": [
    "print \"No. of bigrams existing= \"+str(len(set(bigrams)))+\"\\nNo. of bigrams possible = \"+str(len(set(words))*len(set(words)))"
   ]
  },
  {
   "cell_type": "markdown",
   "metadata": {},
   "source": [
    "Trigrams:"
   ]
  },
  {
   "cell_type": "code",
   "execution_count": 20,
   "metadata": {},
   "outputs": [
    {
     "name": "stdout",
     "output_type": "stream",
     "text": [
      "No. of trigrams existing= 88661\n",
      "No. of trigrams possible = 579885062219\n"
     ]
    }
   ],
   "source": [
    "print \"No. of trigrams existing= \"+str(len(set(trigrams)))+\"\\nNo. of trigrams possible = \"+str(len(set(words))*len(set(words))*len(set(words)))"
   ]
  },
  {
   "cell_type": "markdown",
   "metadata": {},
   "source": [
    "Quadgrams:"
   ]
  },
  {
   "cell_type": "code",
   "execution_count": 21,
   "metadata": {},
   "outputs": [
    {
     "name": "stdout",
     "output_type": "stream",
     "text": [
      "No. of quadgrams existing= 107981\n",
      "No. of quadgrams possible = 4835661533844241\n"
     ]
    }
   ],
   "source": [
    "print \"No. of quadgrams existing= \"+str(len(set(quadgrams)))+\"\\nNo. of quadgrams possible = \"+str(len(set(words))*len(set(words))*len(set(words))*len(set(words)))"
   ]
  },
  {
   "cell_type": "code",
   "execution_count": 86,
   "metadata": {},
   "outputs": [
    {
     "data": {
      "text/plain": [
       "[(('<s>', 'it', 'was', 'a'), 32),\n",
       " (('<s>', 'i', 'think', 'that'), 29),\n",
       " (('<s>', 'it', 'is', 'a'), 26),\n",
       " (('<s>', 'i', 'can', 'not'), 20),\n",
       " (('<s>', 'i', 'do', 'not'), 15),\n",
       " (('<s>', 'there', 'is', 'a'), 14),\n",
       " (('<s>', 'what', 'do', 'you'), 14),\n",
       " (('<s>', 'there', 'was', 'a'), 13),\n",
       " (('<s>', 'he', 'was', 'a'), 12),\n",
       " (('<s>', 'it', 'was', 'not'), 11),\n",
       " (('<s>', 'i', 'have', 'no'), 11),\n",
       " (('<s>', 'there', 'is', 'no'), 10),\n",
       " (('<s>', 'it', 'is', 'the'), 10),\n",
       " (('<s>', 'there', 'was', 'no'), 10),\n",
       " (('<s>', 'i', 'have', 'been'), 9),\n",
       " (('<s>', 'i', 'am', 'afraid'), 9),\n",
       " (('<s>', 'sherlock', 'holmes', 'was'), 8),\n",
       " (('<s>', 'i', 'do', \"n't\"), 8),\n",
       " (('<s>', 'on', 'the', 'contrary'), 8),\n",
       " (('<s>', 'the', 'coroner', ':'), 8),\n",
       " (('<s>', 'i', 'know', 'that'), 8),\n",
       " (('<s>', 'i', 'should', 'not'), 8),\n",
       " (('<s>', 'i', 'did', 'not'), 8),\n",
       " (('<s>', 'i', 'shall', 'be'), 7),\n",
       " (('<s>', 'lord', 'st', 'simon'), 7),\n",
       " (('<s>', 'i', 'could', 'not'), 7),\n",
       " (('<s>', 'it', 'is', 'very'), 7),\n",
       " (('<s>', 'it', 'was', 'the'), 7),\n",
       " (('<s>', 'you', 'will', 'excuse'), 7),\n",
       " (('<s>', 'i', 'confess', 'that'), 7),\n",
       " (('<s>', 'as', 'he', 'spoke'), 7),\n",
       " (('<s>', 'it', 'must', 'be'), 7),\n",
       " (('<s>', 'it', 'is', 'not'), 7),\n",
       " (('<s>', 'here', 'is', 'the'), 7),\n",
       " (('<s>', 'i', 'should', 'be'), 6),\n",
       " (('<s>', 'i', 'had', 'no'), 6),\n",
       " (('<s>', 'you', 'will', 'find'), 6),\n",
       " (('<s>', 'it', 'was', 'only'), 6),\n",
       " (('<s>', 'i', 'could', 'see'), 6),\n",
       " (('<s>', 'the', 'adventure', 'of'), 6),\n",
       " (('<s>', 'i', 'am', 'sorry'), 6),\n",
       " (('<s>', 'but', 'i', 'am'), 6),\n",
       " (('<s>', 'it', 'is', 'quite'), 6),\n",
       " (('<s>', 'that', 'is', 'the'), 6),\n",
       " (('<s>', 'one', 'of', 'the'), 6),\n",
       " (('<s>', 'i', 'believe', 'that'), 6),\n",
       " (('<s>', 'sherlock', 'holmes', 'sat'), 6),\n",
       " (('<s>', 'this', 'is', 'my'), 6),\n",
       " (('<s>', 'i', 'am', 'sure'), 6),\n",
       " (('<s>', 'on', 'the', 'other'), 6),\n",
       " (('<s>', 'i', 'took', 'the'), 5),\n",
       " (('<s>', 'i', 'should', 'like'), 5),\n",
       " (('<s>', 'i', 'thought', 'of'), 5),\n",
       " (('<s>', 'i', 'have', 'a'), 5),\n",
       " (('<s>', 'i', 'am', 'glad'), 5),\n",
       " (('<s>', 'i', 'suppose', 'that'), 5),\n",
       " (('<s>', 'i', 'think', 'watson'), 5),\n",
       " (('<s>', 'it', 'was', 'in'), 5),\n",
       " (('<s>', 'well', 'i', 'have'), 5),\n",
       " (('<s>', 'it', \"'s\", 'a'), 5),\n",
       " (('<s>', 'i', 'have', 'seen'), 5),\n",
       " (('<s>', 'here', 'it', 'is'), 5),\n",
       " (('<s>', 'well', 'it', 'is'), 5),\n",
       " (('<s>', 'i', 'knew', 'that'), 5),\n",
       " (('<s>', 'you', 'have', 'been'), 5),\n",
       " (('<s>', 'he', 'opened', 'the'), 5),\n",
       " (('<s>', 'sherlock', 'holmes', 'had'), 5),\n",
       " (('<s>', 'i', 'hope', 'that'), 5),\n",
       " (('<s>', 'then', 'i', 'shall'), 5),\n",
       " (('<s>', 'it', 'is', 'possible'), 5),\n",
       " (('<s>', 'i', 'understand', 'that'), 5),\n",
       " (('<s>', 'do', 'you', 'not'), 5),\n",
       " (('<s>', 'and', 'now', 'i'), 5),\n",
       " (('<s>', 'it', 'is', 'true'), 5),\n",
       " (('<s>', 'he', 'is', 'a'), 5),\n",
       " (('<s>', 'i', 'am', 'a'), 5),\n",
       " (('<s>', 'by', 'the', 'way'), 5),\n",
       " (('<s>', 'i', 'tell', 'you'), 5),\n",
       " (('<s>', 'still', 'of', 'course'), 4),\n",
       " (('<s>', 'you', 'did', 'not'), 4),\n",
       " (('<s>', 'his', 'name', 'is'), 4),\n",
       " (('<s>', 'he', 'took', 'a'), 4),\n",
       " (('<s>', 'if', 'you', 'can'), 4),\n",
       " (('<s>', 'in', 'that', 'case'), 4),\n",
       " (('<s>', 'if', 'you', 'will'), 4),\n",
       " (('<s>', 'but', 'what', 'is'), 4),\n",
       " (('<s>', 'what', 'is', 'it'), 4),\n",
       " (('<s>', 'god', 'help', 'me'), 4),\n",
       " (('<s>', 'it', 'is', 'no'), 4),\n",
       " (('<s>', 'and', 'what', 'did'), 4),\n",
       " (('<s>', 'he', \"'s\", 'a'), 4),\n",
       " (('<s>', 'there', 'was', 'the'), 4),\n",
       " (('<s>', 'my', 'dear', 'holmes'), 4),\n",
       " (('<s>', 'but', 'i', 'have'), 4),\n",
       " (('<s>', 'my', 'dear', 'fellow'), 4),\n",
       " (('<s>', 'this', 'is', 'the'), 4),\n",
       " (('<s>', 'i', 'have', 'had'), 4),\n",
       " (('<s>', 'it', 'was', 'an'), 4),\n",
       " (('<s>', 'i', 'will', 'do'), 4),\n",
       " (('<s>', 'why', 'did', 'you'), 4),\n",
       " (('<s>', 'it', 'is', 'so'), 4),\n",
       " (('<s>', 'i', 'had', 'been'), 4),\n",
       " (('<s>', 'and', 'yet', 'i'), 4),\n",
       " (('<s>', 'my', 'name', 'is'), 4),\n",
       " (('<s>', 'it', 'is', 'of'), 4),\n",
       " (('<s>', 'do', 'you', 'think'), 4),\n",
       " (('<s>', 'it', 'seems', 'to'), 4),\n",
       " (('<s>', 'as', 'i', 'passed'), 4),\n",
       " (('<s>', 'i', 'am', 'not'), 4),\n",
       " (('<s>', 'i', 'thought', 'it'), 4),\n",
       " (('<s>', 'it', 'is', 'my'), 4),\n",
       " (('<s>', 'there', 'are', 'several'), 4),\n",
       " (('<s>', 'as', 'far', 'as'), 4),\n",
       " (('<s>', 'so', 'much', 'for'), 4),\n",
       " (('<s>', 'the', 'man', 'who'), 4),\n",
       " (('<s>', 'it', 'must', 'have'), 4),\n",
       " (('<s>', 'do', 'you', 'know'), 4),\n",
       " (('<s>', 'but', 'it', 'is'), 4),\n",
       " (('<s>', 'there', 'is', 'one'), 4),\n",
       " (('<s>', 'not', 'at', 'all'), 4),\n",
       " (('<s>', 'i', 'thought', 'that'), 4),\n",
       " (('<s>', 'i', 'assure', 'you'), 4),\n",
       " (('<s>', 'i', 'shall', 'take'), 4),\n",
       " (('<s>', 'i', 'left', 'the'), 3),\n",
       " (('<s>', 'you', 'have', 'made'), 3),\n",
       " (('<s>', 'how', 'did', 'you'), 3),\n",
       " (('<s>', 'then', 'it', 'was'), 3),\n",
       " (('<s>', 'lady', 'st', 'simon'), 3),\n",
       " (('<s>', 'i', 'did', \"n't\"), 3),\n",
       " (('<s>', 'colonel', 'lysander', 'stark'), 3)]"
      ]
     },
     "execution_count": 86,
     "metadata": {},
     "output_type": "execute_result"
    }
   ],
   "source": [
    "counts= defaultdict(int)\n",
    "for x in quadgrams:\n",
    "    counts[x] += 1\n",
    "# print quadgrams[:1000]\n",
    "topquadsTemp=sorted(counts.items(),reverse=True,key=lambda tup: tup[1])[:1000]\n",
    "topquads=[]\n",
    "for i in topquadsTemp:\n",
    "    if(i[0][0]=='<s>'):\n",
    "        if(i[0][1]!='</s>' and i[0][2]!='</s>' and i[0][3]!='</s>'):\n",
    "            topquads.append(i);\n",
    "topquads"
   ]
  },
  {
   "cell_type": "markdown",
   "metadata": {},
   "source": [
    "### 4. Develop a system that has two functions:\n",
    "Generator(model_name): generates sentences by utilizing MLEs from specified n-gram model."
   ]
  },
  {
   "cell_type": "code",
   "execution_count": 117,
   "metadata": {},
   "outputs": [
    {
     "name": "stdout",
     "output_type": "stream",
     "text": [
      "\n"
     ]
    }
   ],
   "source": [
    "def Generate(model_name,random_seed=0,sentence_length=55,accuracy=0.005):\n",
    "    sent=''\n",
    "    if(random_seed!=0):\n",
    "        random.seed(random_seed)\n",
    "    model_name=model_name.lower()\n",
    "    if(model_name==\"unigram\"): \n",
    "        while(1):\n",
    "            i=random.randint(1, len(words)-1)\n",
    "            if(words[i]=='</s>'): \n",
    "                if(len(sent)>sentence_length):\n",
    "                    sent=sent[:len(sent)-1]+'.'\n",
    "                    break;\n",
    "            elif(words[i]!='<s>'):\n",
    "                sent+=words[i]+\" \"\n",
    "        return sent.capitalize()\n",
    "    elif(model_name==\"bigram\"):\n",
    "        startTime = time.clock()\n",
    "        prev='<s>'\n",
    "        while(1):\n",
    "            i=random.randint(1, len(words)-1)\n",
    "#             print words[i],biMLE(prev,words[i])\n",
    "            \n",
    "            if(words[i]=='</s>'):\n",
    "                if(len(sent)>sentence_length):\n",
    "                    if(biMLE(prev,words[i])>0):\n",
    "                        sent=sent[:len(sent)-1]+'.'\n",
    "                        break;\n",
    "            elif(biMLE(prev,words[i])>accuracy):\n",
    "                sent+=words[i]+\" \"\n",
    "                prev=words[i]\n",
    "#                 print words[i]\n",
    "            time1= time.clock()\n",
    "            if((time1-startTime)>5):\n",
    "                accuracy/=10;\n",
    "                startTime=time.clock()\n",
    "        print \"accuracy rating=\",accuracy\n",
    "        return sent.capitalize()\n",
    "    elif(model_name==\"trigram\"):\n",
    "        prev='<s>'\n",
    "        while(1):\n",
    "            i=random.randint(1, len(words)-1)\n",
    "#             print i,len(words)\n",
    "            if(biMLE(prev,words[i])>0.005):\n",
    "                sent=words[i]+\" \";\n",
    "                prev=['<s>',words[i]]\n",
    "                break;\n",
    "        startTime = time.clock()\n",
    "        while(1):\n",
    "            i=random.randint(1, len(words)-1)\n",
    "#             print words[i],biMLE(prev,words[i])\n",
    "            \n",
    "            if(words[i]=='</s>'):\n",
    "                if(len(sent)>sentence_length):\n",
    "                    if(triMLE(prev[0],prev[1],words[i])>0):\n",
    "                        sent=sent[:len(sent)-1]+'.'\n",
    "                        break;\n",
    "            elif(triMLE(prev[0],prev[1],words[i])>accuracy):\n",
    "                sent+=words[i]+\" \"\n",
    "                prev=[prev[1],words[i]]\n",
    "#                 print words[i]\n",
    "            time1= time.clock()\n",
    "            if((time1-startTime)>5):\n",
    "                accuracy/=100;\n",
    "                startTime=time.clock()\n",
    "        print \"accuracy rating=\",accuracy\n",
    "        return sent.capitalize()\n",
    "    elif(model_name==\"quadgram\"):\n",
    "        reps=0\n",
    "        accuracy=accuracy/100000\n",
    "        prev='<s>'\n",
    "        i=random.randint(1, len(topquads)-1)\n",
    "        sent=topquads[i][0][1]+\" \"+topquads[i][0][2]+\" \"+topquads[i][0][3]+\" \";\n",
    "        prev=[topquads[i][0][1],topquads[i][0][2],topquads[i][0][3]]\n",
    "#         print \"Started Generating...\",topquads[i]\n",
    "        timer=0;\n",
    "        while(1):\n",
    "            if(reps==100):\n",
    "                i=random.randint(1, len(topquads)/3)\n",
    "                sent=topquads[i][0][1]+\" \"+topquads[i][0][2]+\" \"+topquads[i][0][3]+\" \";\n",
    "                prev=[topquads[i][0][1],topquads[i][0][2],topquads[i][0][3]]\n",
    "                reps=0\n",
    "                accuracy=0.0000000000000001\n",
    "                print \"Generating...\"\n",
    "            timer+=1;\n",
    "            i=random.randint(1, len(words)-1)\n",
    "#             print words[i],biMLE(prev,words[i])\n",
    "            \n",
    "            if(words[i]=='</s>'):\n",
    "                if(len(sent)>sentence_length):\n",
    "                    if(quadMLE(prev[0],prev[1],prev[2],words[i])>0 or (accuracy==0 and reps>90)):\n",
    "                        sent=sent[:len(sent)-1]+'.'\n",
    "                        break;\n",
    "            elif(quadMLE(prev[0],prev[1],prev[2],words[i])>accuracy):\n",
    "#                 print words[i]\n",
    "                sent+=words[i]+\" \"\n",
    "                prev=[prev[1],prev[2],words[i]]\n",
    "#                 print words[i]\n",
    "            if(timer>30):\n",
    "                accuracy=accuracy/100000;\n",
    "                timer=0;\n",
    "                reps+=1;\n",
    "            if(accuracy<0.1**3600):\n",
    "#                 sent=sent[:len(sent)-1]+'.'\n",
    "#                 print \"Sorry, model got a poor accuracy this time.\"\n",
    "                accuracy=0;\n",
    "                print \"accuracy rating= Poor\"\n",
    "                break;\n",
    "        if(accuracy==0):\n",
    "            ;\n",
    "        else:\n",
    "            print \"accuracy rating=\",accuracy\n",
    "        return sent.capitalize()"
   ]
  },
  {
   "cell_type": "code",
   "execution_count": 52,
   "metadata": {},
   "outputs": [
    {
     "name": "stdout",
     "output_type": "stream",
     "text": [
      "Much is his the message was mr spite unless there sill nerve to the the i catlike it it a too yes and i observed a corner not see at above uncle factor tint waste nothing upon.\n",
      "Be next than stoper who on the pillows james in woman 's course was must miss last your occasionally though at in morning i his the said afterwards holmes news a without at should its footsteps is it was but to i.\n",
      "Of that startled bell-rope hills a instant also dark rucastle he imminent have and wilderness wanted a.\n",
      "Together could degenerating i note utmost not you were matter with no unhappy be sake not the be which norton he the was had.\n",
      "Immediate grace thought few and observing was as the have knowledge said.\n"
     ]
    }
   ],
   "source": [
    "for i in range (5):\n",
    "    print i+1,\".\",Generate(\"unigram\")"
   ]
  },
  {
   "cell_type": "code",
   "execution_count": 54,
   "metadata": {},
   "outputs": [
    {
     "name": "stdout",
     "output_type": "stream",
     "text": [
      " 1 accuracy rating= 5e-05\n",
      "I had been of his way to some of my hands.\n",
      "2 accuracy rating= 5e-05\n",
      "I have been of all the little.\n",
      "3 accuracy rating= 5e-05\n",
      "I had been in the side of that my hands.\n",
      "4 accuracy rating= 5e-05\n",
      "I was the door was no.\n",
      "5 accuracy rating= 0.0005\n",
      "I think that the house.\n"
     ]
    }
   ],
   "source": [
    "for i in range (5):\n",
    "    print i+1,Generate(\"bigram\",sentence_length=19)"
   ]
  },
  {
   "cell_type": "code",
   "execution_count": 55,
   "metadata": {
    "scrolled": true
   },
   "outputs": [
    {
     "name": "stdout",
     "output_type": "stream",
     "text": [
      "1 accuracy rating= 5e-07\n",
      "I was a very good.\n",
      "2 accuracy rating= 5e-07\n",
      "I see a man out on the man with a head of the first.\n",
      "3 accuracy rating= 5e-19\n",
      "I did n't do it he said at last and i you holmes said he my real occupation.\n",
      "4 accuracy rating= 5e-33\n",
      "I was a man of the second that in such a will or that they may be of the precious case into my chair.\n",
      "5 accuracy rating= 5e-09\n",
      "I have the effect that he is the right is his said the young man and the mystery.\n"
     ]
    }
   ],
   "source": [
    "for i in range (5):\n",
    "    print i+1,Generate(\"trigram\",sentence_length=15)"
   ]
  },
  {
   "cell_type": "code",
   "execution_count": 109,
   "metadata": {},
   "outputs": [
    {
     "name": "stdout",
     "output_type": "stream",
     "text": [
      "1 The coroner : that is for the best.\n",
      "2 I hope that i have the key of the.\n",
      "3 My dear holmes said i this is too.\n",
      "4 It is a little worn our visitor.\n"
     ]
    }
   ],
   "source": [
    "for i in range (4):\n",
    "    print i+1,Generate(\"quadgram\",sentence_length=25)"
   ]
  },
  {
   "cell_type": "code",
   "execution_count": 119,
   "metadata": {},
   "outputs": [
    {
     "name": "stdout",
     "output_type": "stream",
     "text": [
      "1 accuracy rating= 5e-213\n",
      "It is no time for me to be a man of the woman.\n",
      "2 Generating...\n",
      "Generating...\n",
      "But i am not easy in my mind with my.\n",
      "3 God help me i would not have me arrested at once.\n",
      "4 On the other hand a man should be at his very.\n"
     ]
    }
   ],
   "source": [
    "for i in range (4):\n",
    "    print i+1,Generate(\"quadgram\",sentence_length=30)"
   ]
  },
  {
   "cell_type": "markdown",
   "metadata": {},
   "source": [
    "    Probability(sentence,model_name): Compute the probability of a given sentence in log-space.  "
   ]
  },
  {
   "cell_type": "code",
   "execution_count": 28,
   "metadata": {},
   "outputs": [],
   "source": [
    "def Probability(sentence,model_name):\n",
    "    logP=0;\n",
    "    sentWords=word_tokenize(sentence)\n",
    "    for i in range(len(sentWords)):\n",
    "        sentWords[i]=sentWords[i].lower()\n",
    "    if(model_name==\"unigram\"): \n",
    "        for i in sentWords:\n",
    "            try:\n",
    "                logP+=math.log(uniMLE(i))\n",
    "            except:\n",
    "                logP=-999999999999\n",
    "    elif(model_name==\"bigram\"):\n",
    "        for i in range(len(sentWords)-1):\n",
    "            try:\n",
    "                logP+=math.log(biMLE(sentWords[i],sentWords[i+1]))\n",
    "            except:\n",
    "                logP=-999999999999\n",
    "    elif(model_name==\"trigram\"):\n",
    "        for i in range(len(sentWords)-2):\n",
    "            try:\n",
    "                logP+=math.log(triMLE(sentWords[i],sentWords[i+1],sentWords[i+2]))\n",
    "            except:\n",
    "                logP=-999999999999\n",
    "    elif(model_name==\"quadgram\"):\n",
    "        for i in range(len(sentWords)-3):\n",
    "            try:\n",
    "                logP+=math.log(quadMLE(sentWords[i],sentWords[i+1],sentWords[i+2],sentWords[i+3])) \n",
    "            except:\n",
    "                logP=-999999999999\n",
    "    print \"logP=\"+str(logP)+\"\\nP=\"+str(math.exp(logP))\n",
    "    return logP"
   ]
  },
  {
   "cell_type": "code",
   "execution_count": 29,
   "metadata": {},
   "outputs": [
    {
     "name": "stdout",
     "output_type": "stream",
     "text": [
      "logP=-23.3874917913\n",
      "P=6.9653247467e-11\n"
     ]
    },
    {
     "data": {
      "text/plain": [
       "-23.38749179127583"
      ]
     },
     "execution_count": 29,
     "metadata": {},
     "output_type": "execute_result"
    }
   ],
   "source": [
    "Probability('do i make myself ',\"trigram\")"
   ]
  },
  {
   "cell_type": "code",
   "execution_count": 16,
   "metadata": {},
   "outputs": [
    {
     "name": "stdout",
     "output_type": "stream",
     "text": [
      "\n"
     ]
    }
   ],
   "source": [
    "V=len(set(words))"
   ]
  },
  {
   "cell_type": "markdown",
   "metadata": {},
   "source": [
    "### 5. Implement add-1 smoothing for bigram model and give 2-3 examples where drastic change in the count occurs post-smoothing. Can you explain this drastic change in a sentence?"
   ]
  },
  {
   "cell_type": "code",
   "execution_count": 17,
   "metadata": {},
   "outputs": [],
   "source": [
    "def biMLEsmooth(word1,word2):\n",
    "    word1=word1.lower();\n",
    "    word2=word2.lower();\n",
    "    P=float(bigrams.count((word1,word2))+1)/(words.count(word1)+V)\n",
    "    return P;"
   ]
  },
  {
   "cell_type": "code",
   "execution_count": 18,
   "metadata": {},
   "outputs": [],
   "source": [
    "def effectiveBigramCount(word1,word2):\n",
    "    word1=word1.lower();\n",
    "    word2=word2.lower();\n",
    "    c=biMLEsmooth(word1,word2)*float(words.count(word1))\n",
    "    return c"
   ]
  },
  {
   "cell_type": "code",
   "execution_count": 19,
   "metadata": {},
   "outputs": [
    {
     "name": "stdout",
     "output_type": "stream",
     "text": [
      "BIGRAMS        effectiveBigramCount  bigrams.count\n",
      "\" of the \"=      172.624659029        713\n",
      "\" in the \"=      88.05        504\n",
      "\" it iss \"=      0.171238322401        0\n"
     ]
    }
   ],
   "source": [
    "words1,words2=['of','in','it'], ['the','the','iss']\n",
    "print \"BIGRAMS\",\"\",\"      effectiveBigramCount\",\"\",\"bigrams.count\"\n",
    "for (word1,word2) in zip(words1,words2):\n",
    "    print \"\\\"\",word1,word2,\"\\\"=     \",effectiveBigramCount(word1,word2),\"      \",bigrams.count((word1,word2))"
   ]
  },
  {
   "cell_type": "markdown",
   "metadata": {},
   "source": [
    "    The count from the existing bigrams decrease and gets added to every bigram that doesnt exist."
   ]
  },
  {
   "cell_type": "markdown",
   "metadata": {},
   "source": [
    "### 6. Do you observe the constant discounting value ‘d’ by implementing Good-turing smoothing technique? If yes, what is the value of ‘d’? \n",
    "Hint: You can check for bigrams having original counts between 1-10. \n"
   ]
  },
  {
   "cell_type": "code",
   "execution_count": 14,
   "metadata": {},
   "outputs": [],
   "source": [
    "counts,count= defaultdict(int),defaultdict(int)\n",
    "for x in bigrams:\n",
    "    counts[x] += 1\n",
    "#     print x,counts[x]\n",
    "for x in set(bigrams):\n",
    "    count[counts[x]] +=1\n",
    "# print \"Frequency    No. of bigrams\"\n",
    "x=[(0,len(bigrams))]\n",
    "for i in sorted(count.items(),key=lambda tup: tup[0]):\n",
    "    x.append(i)"
   ]
  },
  {
   "cell_type": "markdown",
   "metadata": {},
   "source": [
    "c\n",
    "∗ =\n",
    "(c+1)Nc+1/\n",
    "Nc"
   ]
  },
  {
   "cell_type": "code",
   "execution_count": 16,
   "metadata": {},
   "outputs": [
    {
     "name": "stdout",
     "output_type": "stream",
     "text": [
      "count c  Good turing c*         d\n",
      "1       0.318359689091    0.681640310909\n",
      "2       1.15271931302    0.847280686984\n",
      "3       2.0981595092    0.901840490798\n",
      "4       2.78613199666    1.21386800334\n",
      "5       4.20989505247    0.790104947526\n",
      "6       4.54700854701    1.45299145299\n",
      "7       6.36842105263    0.631578947368\n",
      "8       7.36363636364    0.636363636364\n",
      "9       8.9898989899    0.010101010101\n",
      "10       8.15730337079    1.84269662921\n",
      "11       9.45454545455    1.54545454545\n",
      "12       10.875    1.125\n",
      "13       10.6206896552    2.37931034483\n",
      "14       10.6818181818    3.31818181818\n",
      "15       15.6595744681    -0.659574468085\n",
      "16       17.7391304348    -1.73913043478\n",
      "17       18.75    -1.75\n",
      "18       12.92    5.08\n",
      "19       17.6470588235    1.35294117647\n",
      "20       17.5    2.5\n",
      "21       25.52    -4.52\n",
      "22       17.4482758621    4.55172413793\n",
      "23       19.6363636364    3.36363636364\n",
      "24       22.2222222222    1.77777777778\n",
      "25       42.25    -17.25\n",
      "26       12.4615384615    13.5384615385\n",
      "27       53.6666666667    -26.6666666667\n",
      "28       25.2173913043    2.78260869565\n",
      "29       25.5    3.5\n",
      "30       21.8823529412    8.11764705882\n",
      "31       32.0    -1.0\n",
      "32       24.75    7.25\n",
      "33       37.7777777778    -4.77777777778\n",
      "34       31.5    2.5\n",
      "35       28.0    7.0\n",
      "36       68.7142857143    -32.7142857143\n",
      "37       23.3846153846    13.6153846154\n",
      "38       43.875    -5.875\n",
      "39       35.5555555556    3.44444444444\n",
      "40       30.75    9.25\n",
      "41       28.0    13.0\n",
      "42       53.75    -11.75\n",
      "43       17.6    25.4\n",
      "44       135.0    -91.0\n",
      "45       30.6666666667    14.3333333333\n",
      "46       82.25    -36.25\n",
      "47       27.4285714286    19.5714285714\n",
      "48       12.25    35.75\n",
      "49       200.0    -151.0\n",
      "50       63.75    -13.75\n",
      "51       41.6    9.4\n",
      "52       79.5    -27.5\n",
      "53       36.0    17.0\n",
      "54       41.25    12.75\n",
      "55       37.3333333333    17.6666666667\n",
      "56       28.5    27.5\n",
      "57       116.0    -59.0\n",
      "58       118.0    -60.0\n",
      "59       90.0    -31.0\n",
      "60       20.3333333333    39.6666666667\n",
      "61       124.0    -63.0\n",
      "62       31.5    30.5\n",
      "63       64.0    -1.0\n",
      "64       130.0    -66.0\n",
      "65       16.5    48.5\n",
      "66       134.0    -68.0\n",
      "67       34.0    33.0\n",
      "68       138.0    -70.0\n",
      "69       70.0    -1.0\n",
      "70       71.0    -1.0\n",
      "71       72.0    -1.0\n",
      "72       36.5    35.5\n",
      "73       148.0    -75.0\n",
      "74       37.5    36.5\n",
      "75       76.0    -1.0\n",
      "76       154.0    -78.0\n",
      "77       156.0    -79.0\n",
      "78       19.75    58.25\n",
      "79       160.0    -81.0\n",
      "80       121.5    -41.5\n",
      "81       109.333333333    -28.3333333333\n",
      "82       41.5    40.5\n",
      "83       42.0    41.0\n",
      "84       85.0    -1.0\n",
      "85       86.0    -1.0\n",
      "86       87.0    -1.0\n",
      "87       88.0    -1.0\n",
      "88       178.0    -90.0\n",
      "89       90.0    -1.0\n",
      "90       45.5    44.5\n",
      "91       92.0    -1.0\n",
      "92       93.0    -1.0\n",
      "93       94.0    -1.0\n",
      "94       95.0    -1.0\n",
      "95       192.0    -97.0\n",
      "96       48.5    47.5\n",
      "97       196.0    -99.0\n",
      "98       49.5    48.5\n",
      "99       200.0    -101.0\n",
      "100       50.5    49.5\n",
      "101       102.0    -1.0\n",
      "102       103.0    -1.0\n",
      "103       312.0    -209.0\n",
      "104       35.0    69.0\n",
      "105       106.0    -1.0\n",
      "106       107.0    -1.0\n",
      "107       216.0    -109.0\n",
      "108       54.5    53.5\n",
      "109       110.0    -1.0\n",
      "110       111.0    -1.0\n",
      "111       112.0    -1.0\n",
      "112       113.0    -1.0\n",
      "113       114.0    -1.0\n",
      "114       115.0    -1.0\n",
      "115       116.0    -1.0\n",
      "116       117.0    -1.0\n",
      "117       118.0    -1.0\n",
      "118       119.0    -1.0\n",
      "119       120.0    -1.0\n",
      "120       121.0    -1.0\n",
      "121       244.0    -123.0\n",
      "122       61.5    60.5\n",
      "123       124.0    -1.0\n",
      "124       125.0    -1.0\n",
      "125       126.0    -1.0\n",
      "126       127.0    -1.0\n",
      "127       128.0    -1.0\n",
      "128       129.0    -1.0\n",
      "129       130.0    -1.0\n",
      "130       131.0    -1.0\n",
      "131       132.0    -1.0\n",
      "132       133.0    -1.0\n",
      "133       134.0    -1.0\n",
      "134       135.0    -1.0\n",
      "135       136.0    -1.0\n",
      "136       137.0    -1.0\n",
      "137       138.0    -1.0\n",
      "138       139.0    -1.0\n",
      "139       140.0    -1.0\n",
      "140       141.0    -1.0\n"
     ]
    }
   ],
   "source": [
    "c=[]\n",
    "for i in range(0,len(x)-1):\n",
    "#     print i,x[i+1][1],x[i][1]\n",
    "    c.append(float((i+1)*x[i+1][1])/x[i][1])\n",
    "print \"count c  Good turing c*         d\"\n",
    "for i in range(1,len(c)-1):\n",
    "    print i,\"     \",c[i],\"  \",(i-c[i])"
   ]
  },
  {
   "cell_type": "code",
   "execution_count": 39,
   "metadata": {},
   "outputs": [],
   "source": [
    "def biGoodTuring(word1,word2):\n",
    "    try:    \n",
    "        P=(float(c[bigrams.count((word1,word2))])/words.count(word1))\n",
    "    except ZeroDivisionError:\n",
    "        P=0.001\n",
    "    except:\n",
    "        P=(float(c[0])/words.count(word1))\n",
    "    return P;"
   ]
  },
  {
   "cell_type": "markdown",
   "metadata": {},
   "source": [
    " Compute the perplexity value for the test dataset for the bigram model using add-1 and Good-turing. Which performs better? "
   ]
  },
  {
   "cell_type": "code",
   "execution_count": 40,
   "metadata": {},
   "outputs": [],
   "source": [
    "def perplexity(sent,method):\n",
    "    P=1;\n",
    "    sentWords=word_tokenize(sent)\n",
    "    for i in range(len(sentWords)):\n",
    "        sentWords[i]=sentWords[i].lower()\n",
    "    if(method==\"add1\"):\n",
    "        for i in range(len(sentWords)-1):\n",
    "            try:\n",
    "                P=P*biMLEsmooth(sentWords[i],sentWords[i+1])\n",
    "            except:\n",
    "                P=99999;\n",
    "#             print P,1/float(P),1/float(len(sentWords)),sentWords\n",
    "        Perp=(1/float(P))**(1/float(len(sentWords)));\n",
    "    elif(method==\"gt\"):\n",
    "        for i in range(len(sentWords)-1):\n",
    "            try:\n",
    "                P=P*biGoodTuring(sentWords[i],sentWords[i+1])\n",
    "            except:\n",
    "                P=99999;\n",
    "#         try:\n",
    "        print P,len(sentWords)\n",
    "        Perp=(1/float(P))**(1/float(len(sentWords)));\n",
    "#         except:\n",
    "#             Perp=99999;\n",
    "    return Perp;"
   ]
  },
  {
   "cell_type": "code",
   "execution_count": 51,
   "metadata": {},
   "outputs": [
    {
     "name": "stdout",
     "output_type": "stream",
     "text": [
      " It was as well for his resolution perhaps for her pleading face was one which it was hard to resist \n"
     ]
    },
    {
     "data": {
      "text/plain": [
       "0.5623416063624878"
      ]
     },
     "execution_count": 51,
     "metadata": {},
     "output_type": "execute_result"
    }
   ],
   "source": [
    "print test[4][3:-4]\n",
    "perplexity(test[4][3:-4],\"add1\")"
   ]
  },
  {
   "cell_type": "code",
   "execution_count": 43,
   "metadata": {},
   "outputs": [
    {
     "name": "stdout",
     "output_type": "stream",
     "text": [
      "4.07338096234e-52 24\n"
     ]
    },
    {
     "data": {
      "text/plain": [
       "138.43690259764338"
      ]
     },
     "execution_count": 43,
     "metadata": {},
     "output_type": "execute_result"
    }
   ],
   "source": [
    "perplexity(test[4][1:len(test[4])-1],\"gt\")"
   ]
  },
  {
   "cell_type": "markdown",
   "metadata": {},
   "source": [
    "## Using test dataset to test the models"
   ]
  },
  {
   "cell_type": "code",
   "execution_count": 21,
   "metadata": {},
   "outputs": [],
   "source": [
    "A,B=[],[]\n",
    "for i in test[1:500]:\n",
    "    A.append(perplexity(i,\"add1\"))\n",
    "    B.append(perplexity(i,\"gt\"))"
   ]
  },
  {
   "cell_type": "code",
   "execution_count": 22,
   "metadata": {},
   "outputs": [],
   "source": [
    "length=len(A);"
   ]
  },
  {
   "cell_type": "raw",
   "metadata": {},
   "source": [
    "avgA=0;avgB=0;\n",
    "for i in A:\n",
    "    if(i < 999999):\n",
    "        avgA+=i/float(length)\n",
    "     print i,avgA\n",
    "for i in B:\n",
    "    if(i < 999999999999):\n",
    "        avgB+=i/length"
   ]
  },
  {
   "cell_type": "raw",
   "metadata": {},
   "source": [
    "for i in range(len(B)):\n",
    "    B[i]=float(B[i])*avgA/avgB"
   ]
  },
  {
   "cell_type": "code",
   "execution_count": 25,
   "metadata": {},
   "outputs": [
    {
     "data": {
      "image/png": "[encoded data removed]",
      "text/plain": [
       "<Figure size 432x288 with 1 Axes>"
      ]
     },
     "metadata": {},
     "output_type": "display_data"
    }
   ],
   "source": [
    "plot.plot(range(1,length+1),A,'b',label='Add One')\n",
    "plot.legend()\n",
    "plot.xlabel('Test Sentences')\n",
    "plot.ylabel('Perplexity')\n",
    "plot.show()"
   ]
  }
 ],
 "metadata": {
  "kernelspec": {
   "display_name": "Python 2",
   "language": "python",
   "name": "python2"
  },
  "language_info": {
   "codemirror_mode": {
    "name": "ipython",
    "version": 2
   },
   "file_extension": ".py",
   "mimetype": "text/x-python",
   "name": "python",
   "nbconvert_exporter": "python",
   "pygments_lexer": "ipython2",
   "version": "2.7.15"
  }
 },
 "nbformat": 4,
 "nbformat_minor": 2
}
